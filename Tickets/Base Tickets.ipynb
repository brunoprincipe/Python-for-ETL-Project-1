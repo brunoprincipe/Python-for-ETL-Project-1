{
 "cells": [
  {
   "cell_type": "code",
   "execution_count": 3,
   "metadata": {},
   "outputs": [],
   "source": [
    "import polars as pl\n",
    "from polars import Config"
   ]
  },
  {
   "cell_type": "code",
   "execution_count": 4,
   "metadata": {},
   "outputs": [
    {
     "data": {
      "text/plain": [
       "polars.config.Config"
      ]
     },
     "execution_count": 4,
     "metadata": {},
     "output_type": "execute_result"
    }
   ],
   "source": [
    "Config.set_fmt_str_lengths(100)"
   ]
  },
  {
   "cell_type": "markdown",
   "metadata": {},
   "source": [
    "- Importe la base “Tickets Historico.txt”, indicando que solo se importen las\n",
    "columnas: Numero Ticket, Ubicacion, Service Desk, Estado, Fecha Creacion,\n",
    "Fecha Termino y Fecha Cierre. Las columnas Fecha Creacion, Fecha Termino y\n",
    "Fecha Cierre deberán tener el tipo de dato fecha."
   ]
  },
  {
   "cell_type": "code",
   "execution_count": 5,
   "metadata": {},
   "outputs": [],
   "source": [
    "#Leyendo \"Tickets Historico.txt\" y seleccionando columnas \n",
    "data_h=pl.read_csv(\n",
    "    source=\"Tickets Historico.txt\",\n",
    "    separator=\";\"\n",
    ").select(\n",
    "    \"Numero Ticket\",\n",
    "    \"Ubicacion\",\n",
    "    \"Service Desk\",\n",
    "    \"Estado\",\n",
    "    \"Fecha Creacion\",\n",
    "    \"Fecha Termino\",\n",
    "    \"Fecha Cierre\"\n",
    ")"
   ]
  },
  {
   "cell_type": "code",
   "execution_count": 6,
   "metadata": {},
   "outputs": [
    {
     "data": {
      "text/html": [
       "<div><style>\n",
       ".dataframe > thead > tr,\n",
       ".dataframe > tbody > tr {\n",
       "  text-align: right;\n",
       "  white-space: pre-wrap;\n",
       "}\n",
       "</style>\n",
       "<small>shape: (10, 7)</small><table border=\"1\" class=\"dataframe\"><thead><tr><th>Numero Ticket</th><th>Ubicacion</th><th>Service Desk</th><th>Estado</th><th>Fecha Creacion</th><th>Fecha Termino</th><th>Fecha Cierre</th></tr><tr><td>str</td><td>str</td><td>str</td><td>str</td><td>str</td><td>str</td><td>str</td></tr></thead><tbody><tr><td>&quot;WO0000004122687&quot;</td><td>&quot;AREQUIPA - 215000&quot;</td><td>&quot;Zona Norte&quot;</td><td>&quot;Cerrado&quot;</td><td>&quot;2022-06-01&quot;</td><td>&quot;2022-06-14&quot;</td><td>&quot;2022-06-14&quot;</td></tr><tr><td>&quot;WO0000004122649&quot;</td><td>&quot;METRO AV. WIESSE - 191106&quot;</td><td>&quot;Zona Centro&quot;</td><td>&quot;Cerrado&quot;</td><td>&quot;2022-06-01&quot;</td><td>&quot;2022-06-17&quot;</td><td>&quot;2022-06-17&quot;</td></tr><tr><td>&quot;WO0000004122502&quot;</td><td>&quot;NICOLAS AYLLON - 191027&quot;</td><td>&quot;Zona Centro&quot;</td><td>&quot;Cerrado&quot;</td><td>&quot;2022-06-01&quot;</td><td>&quot;2022-06-08&quot;</td><td>&quot;2022-06-08&quot;</td></tr><tr><td>&quot;WO0000004122513&quot;</td><td>&quot;JAUREGUI - 405005&quot;</td><td>&quot;Zona Norte&quot;</td><td>&quot;Cerrado&quot;</td><td>&quot;2022-06-01&quot;</td><td>&quot;2022-06-18&quot;</td><td>&quot;2022-06-18&quot;</td></tr><tr><td>&quot;WO0000004122741&quot;</td><td>&quot;CANTO GRANDE - 191096&quot;</td><td>&quot;Zona Centro&quot;</td><td>&quot;Cerrado&quot;</td><td>&quot;2022-06-01&quot;</td><td>&quot;2022-06-08&quot;</td><td>&quot;2022-06-08&quot;</td></tr><tr><td>&quot;WO0000004122511&quot;</td><td>&quot;CHIMPU OCLLO - 191113&quot;</td><td>&quot;Zona Centro&quot;</td><td>&quot;Cerrado&quot;</td><td>&quot;2022-06-01&quot;</td><td>&quot;2022-06-03&quot;</td><td>&quot;2022-06-03&quot;</td></tr><tr><td>&quot;WO0000004122522&quot;</td><td>&quot;MINI AGENCIA BCP SALAMANCA - 191090&quot;</td><td>&quot;Zona Centro&quot;</td><td>&quot;Cerrado&quot;</td><td>&quot;2022-06-01&quot;</td><td>&quot;2022-06-07&quot;</td><td>&quot;2022-06-07&quot;</td></tr><tr><td>&quot;WO0000004122302&quot;</td><td>&quot;IMPERIAL - 255001&quot;</td><td>&quot;Zona Norte&quot;</td><td>&quot;Cerrado&quot;</td><td>&quot;2022-06-01&quot;</td><td>&quot;2022-06-10&quot;</td><td>&quot;2022-06-10&quot;</td></tr><tr><td>&quot;WO0000004122360&quot;</td><td>&quot;AREQUIPA - 215000&quot;</td><td>&quot;Zona Norte&quot;</td><td>&quot;Cerrado&quot;</td><td>&quot;2022-06-01&quot;</td><td>&quot;2022-06-13&quot;</td><td>&quot;2022-06-13&quot;</td></tr><tr><td>&quot;WO0000004122688&quot;</td><td>&quot;AREQUIPA - 215000&quot;</td><td>&quot;Zona Norte&quot;</td><td>&quot;Cerrado&quot;</td><td>&quot;2022-06-01&quot;</td><td>&quot;2022-06-17&quot;</td><td>&quot;2022-06-17&quot;</td></tr></tbody></table></div>"
      ],
      "text/plain": [
       "shape: (10, 7)\n",
       "┌──────────────┬──────────────┬──────────────┬─────────┬──────────────┬──────────────┬─────────────┐\n",
       "│ Numero       ┆ Ubicacion    ┆ Service Desk ┆ Estado  ┆ Fecha        ┆ Fecha        ┆ Fecha       │\n",
       "│ Ticket       ┆ ---          ┆ ---          ┆ ---     ┆ Creacion     ┆ Termino      ┆ Cierre      │\n",
       "│ ---          ┆ str          ┆ str          ┆ str     ┆ ---          ┆ ---          ┆ ---         │\n",
       "│ str          ┆              ┆              ┆         ┆ str          ┆ str          ┆ str         │\n",
       "╞══════════════╪══════════════╪══════════════╪═════════╪══════════════╪══════════════╪═════════════╡\n",
       "│ WO0000004122 ┆ AREQUIPA -   ┆ Zona Norte   ┆ Cerrado ┆ 2022-06-01   ┆ 2022-06-14   ┆ 2022-06-14  │\n",
       "│ 687          ┆ 215000       ┆              ┆         ┆              ┆              ┆             │\n",
       "│ WO0000004122 ┆ METRO AV.    ┆ Zona Centro  ┆ Cerrado ┆ 2022-06-01   ┆ 2022-06-17   ┆ 2022-06-17  │\n",
       "│ 649          ┆ WIESSE -     ┆              ┆         ┆              ┆              ┆             │\n",
       "│              ┆ 191106       ┆              ┆         ┆              ┆              ┆             │\n",
       "│ WO0000004122 ┆ NICOLAS      ┆ Zona Centro  ┆ Cerrado ┆ 2022-06-01   ┆ 2022-06-08   ┆ 2022-06-08  │\n",
       "│ 502          ┆ AYLLON -     ┆              ┆         ┆              ┆              ┆             │\n",
       "│              ┆ 191027       ┆              ┆         ┆              ┆              ┆             │\n",
       "│ WO0000004122 ┆ JAUREGUI -   ┆ Zona Norte   ┆ Cerrado ┆ 2022-06-01   ┆ 2022-06-18   ┆ 2022-06-18  │\n",
       "│ 513          ┆ 405005       ┆              ┆         ┆              ┆              ┆             │\n",
       "│ WO0000004122 ┆ CANTO GRANDE ┆ Zona Centro  ┆ Cerrado ┆ 2022-06-01   ┆ 2022-06-08   ┆ 2022-06-08  │\n",
       "│ 741          ┆ - 191096     ┆              ┆         ┆              ┆              ┆             │\n",
       "│ WO0000004122 ┆ CHIMPU OCLLO ┆ Zona Centro  ┆ Cerrado ┆ 2022-06-01   ┆ 2022-06-03   ┆ 2022-06-03  │\n",
       "│ 511          ┆ - 191113     ┆              ┆         ┆              ┆              ┆             │\n",
       "│ WO0000004122 ┆ MINI AGENCIA ┆ Zona Centro  ┆ Cerrado ┆ 2022-06-01   ┆ 2022-06-07   ┆ 2022-06-07  │\n",
       "│ 522          ┆ BCP          ┆              ┆         ┆              ┆              ┆             │\n",
       "│              ┆ SALAMANCA -  ┆              ┆         ┆              ┆              ┆             │\n",
       "│              ┆ 191090       ┆              ┆         ┆              ┆              ┆             │\n",
       "│ WO0000004122 ┆ IMPERIAL -   ┆ Zona Norte   ┆ Cerrado ┆ 2022-06-01   ┆ 2022-06-10   ┆ 2022-06-10  │\n",
       "│ 302          ┆ 255001       ┆              ┆         ┆              ┆              ┆             │\n",
       "│ WO0000004122 ┆ AREQUIPA -   ┆ Zona Norte   ┆ Cerrado ┆ 2022-06-01   ┆ 2022-06-13   ┆ 2022-06-13  │\n",
       "│ 360          ┆ 215000       ┆              ┆         ┆              ┆              ┆             │\n",
       "│ WO0000004122 ┆ AREQUIPA -   ┆ Zona Norte   ┆ Cerrado ┆ 2022-06-01   ┆ 2022-06-17   ┆ 2022-06-17  │\n",
       "│ 688          ┆ 215000       ┆              ┆         ┆              ┆              ┆             │\n",
       "└──────────────┴──────────────┴──────────────┴─────────┴──────────────┴──────────────┴─────────────┘"
      ]
     },
     "execution_count": 6,
     "metadata": {},
     "output_type": "execute_result"
    }
   ],
   "source": [
    "data_h.head(10)"
   ]
  },
  {
   "cell_type": "code",
   "execution_count": 7,
   "metadata": {},
   "outputs": [],
   "source": [
    "#Redefiniendo los tipos de datos de mi dataframe\n",
    "data_h=data_h.cast(\n",
    "    {\n",
    "        \"Fecha Creacion\":pl.Date,\n",
    "        \"Fecha Termino\":pl.Date,\n",
    "        \"Fecha Cierre\":pl.Date \n",
    "    }\n",
    ")"
   ]
  },
  {
   "cell_type": "code",
   "execution_count": 8,
   "metadata": {},
   "outputs": [
    {
     "data": {
      "text/html": [
       "<div><style>\n",
       ".dataframe > thead > tr,\n",
       ".dataframe > tbody > tr {\n",
       "  text-align: right;\n",
       "  white-space: pre-wrap;\n",
       "}\n",
       "</style>\n",
       "<small>shape: (10, 7)</small><table border=\"1\" class=\"dataframe\"><thead><tr><th>Numero Ticket</th><th>Ubicacion</th><th>Service Desk</th><th>Estado</th><th>Fecha Creacion</th><th>Fecha Termino</th><th>Fecha Cierre</th></tr><tr><td>str</td><td>str</td><td>str</td><td>str</td><td>date</td><td>date</td><td>date</td></tr></thead><tbody><tr><td>&quot;WO0000004122687&quot;</td><td>&quot;AREQUIPA - 215000&quot;</td><td>&quot;Zona Norte&quot;</td><td>&quot;Cerrado&quot;</td><td>2022-06-01</td><td>2022-06-14</td><td>2022-06-14</td></tr><tr><td>&quot;WO0000004122649&quot;</td><td>&quot;METRO AV. WIESSE - 191106&quot;</td><td>&quot;Zona Centro&quot;</td><td>&quot;Cerrado&quot;</td><td>2022-06-01</td><td>2022-06-17</td><td>2022-06-17</td></tr><tr><td>&quot;WO0000004122502&quot;</td><td>&quot;NICOLAS AYLLON - 191027&quot;</td><td>&quot;Zona Centro&quot;</td><td>&quot;Cerrado&quot;</td><td>2022-06-01</td><td>2022-06-08</td><td>2022-06-08</td></tr><tr><td>&quot;WO0000004122513&quot;</td><td>&quot;JAUREGUI - 405005&quot;</td><td>&quot;Zona Norte&quot;</td><td>&quot;Cerrado&quot;</td><td>2022-06-01</td><td>2022-06-18</td><td>2022-06-18</td></tr><tr><td>&quot;WO0000004122741&quot;</td><td>&quot;CANTO GRANDE - 191096&quot;</td><td>&quot;Zona Centro&quot;</td><td>&quot;Cerrado&quot;</td><td>2022-06-01</td><td>2022-06-08</td><td>2022-06-08</td></tr><tr><td>&quot;WO0000004122511&quot;</td><td>&quot;CHIMPU OCLLO - 191113&quot;</td><td>&quot;Zona Centro&quot;</td><td>&quot;Cerrado&quot;</td><td>2022-06-01</td><td>2022-06-03</td><td>2022-06-03</td></tr><tr><td>&quot;WO0000004122522&quot;</td><td>&quot;MINI AGENCIA BCP SALAMANCA - 191090&quot;</td><td>&quot;Zona Centro&quot;</td><td>&quot;Cerrado&quot;</td><td>2022-06-01</td><td>2022-06-07</td><td>2022-06-07</td></tr><tr><td>&quot;WO0000004122302&quot;</td><td>&quot;IMPERIAL - 255001&quot;</td><td>&quot;Zona Norte&quot;</td><td>&quot;Cerrado&quot;</td><td>2022-06-01</td><td>2022-06-10</td><td>2022-06-10</td></tr><tr><td>&quot;WO0000004122360&quot;</td><td>&quot;AREQUIPA - 215000&quot;</td><td>&quot;Zona Norte&quot;</td><td>&quot;Cerrado&quot;</td><td>2022-06-01</td><td>2022-06-13</td><td>2022-06-13</td></tr><tr><td>&quot;WO0000004122688&quot;</td><td>&quot;AREQUIPA - 215000&quot;</td><td>&quot;Zona Norte&quot;</td><td>&quot;Cerrado&quot;</td><td>2022-06-01</td><td>2022-06-17</td><td>2022-06-17</td></tr></tbody></table></div>"
      ],
      "text/plain": [
       "shape: (10, 7)\n",
       "┌──────────────┬──────────────┬──────────────┬─────────┬──────────────┬──────────────┬─────────────┐\n",
       "│ Numero       ┆ Ubicacion    ┆ Service Desk ┆ Estado  ┆ Fecha        ┆ Fecha        ┆ Fecha       │\n",
       "│ Ticket       ┆ ---          ┆ ---          ┆ ---     ┆ Creacion     ┆ Termino      ┆ Cierre      │\n",
       "│ ---          ┆ str          ┆ str          ┆ str     ┆ ---          ┆ ---          ┆ ---         │\n",
       "│ str          ┆              ┆              ┆         ┆ date         ┆ date         ┆ date        │\n",
       "╞══════════════╪══════════════╪══════════════╪═════════╪══════════════╪══════════════╪═════════════╡\n",
       "│ WO0000004122 ┆ AREQUIPA -   ┆ Zona Norte   ┆ Cerrado ┆ 2022-06-01   ┆ 2022-06-14   ┆ 2022-06-14  │\n",
       "│ 687          ┆ 215000       ┆              ┆         ┆              ┆              ┆             │\n",
       "│ WO0000004122 ┆ METRO AV.    ┆ Zona Centro  ┆ Cerrado ┆ 2022-06-01   ┆ 2022-06-17   ┆ 2022-06-17  │\n",
       "│ 649          ┆ WIESSE -     ┆              ┆         ┆              ┆              ┆             │\n",
       "│              ┆ 191106       ┆              ┆         ┆              ┆              ┆             │\n",
       "│ WO0000004122 ┆ NICOLAS      ┆ Zona Centro  ┆ Cerrado ┆ 2022-06-01   ┆ 2022-06-08   ┆ 2022-06-08  │\n",
       "│ 502          ┆ AYLLON -     ┆              ┆         ┆              ┆              ┆             │\n",
       "│              ┆ 191027       ┆              ┆         ┆              ┆              ┆             │\n",
       "│ WO0000004122 ┆ JAUREGUI -   ┆ Zona Norte   ┆ Cerrado ┆ 2022-06-01   ┆ 2022-06-18   ┆ 2022-06-18  │\n",
       "│ 513          ┆ 405005       ┆              ┆         ┆              ┆              ┆             │\n",
       "│ WO0000004122 ┆ CANTO GRANDE ┆ Zona Centro  ┆ Cerrado ┆ 2022-06-01   ┆ 2022-06-08   ┆ 2022-06-08  │\n",
       "│ 741          ┆ - 191096     ┆              ┆         ┆              ┆              ┆             │\n",
       "│ WO0000004122 ┆ CHIMPU OCLLO ┆ Zona Centro  ┆ Cerrado ┆ 2022-06-01   ┆ 2022-06-03   ┆ 2022-06-03  │\n",
       "│ 511          ┆ - 191113     ┆              ┆         ┆              ┆              ┆             │\n",
       "│ WO0000004122 ┆ MINI AGENCIA ┆ Zona Centro  ┆ Cerrado ┆ 2022-06-01   ┆ 2022-06-07   ┆ 2022-06-07  │\n",
       "│ 522          ┆ BCP          ┆              ┆         ┆              ┆              ┆             │\n",
       "│              ┆ SALAMANCA -  ┆              ┆         ┆              ┆              ┆             │\n",
       "│              ┆ 191090       ┆              ┆         ┆              ┆              ┆             │\n",
       "│ WO0000004122 ┆ IMPERIAL -   ┆ Zona Norte   ┆ Cerrado ┆ 2022-06-01   ┆ 2022-06-10   ┆ 2022-06-10  │\n",
       "│ 302          ┆ 255001       ┆              ┆         ┆              ┆              ┆             │\n",
       "│ WO0000004122 ┆ AREQUIPA -   ┆ Zona Norte   ┆ Cerrado ┆ 2022-06-01   ┆ 2022-06-13   ┆ 2022-06-13  │\n",
       "│ 360          ┆ 215000       ┆              ┆         ┆              ┆              ┆             │\n",
       "│ WO0000004122 ┆ AREQUIPA -   ┆ Zona Norte   ┆ Cerrado ┆ 2022-06-01   ┆ 2022-06-17   ┆ 2022-06-17  │\n",
       "│ 688          ┆ 215000       ┆              ┆         ┆              ┆              ┆             │\n",
       "└──────────────┴──────────────┴──────────────┴─────────┴──────────────┴──────────────┴─────────────┘"
      ]
     },
     "execution_count": 8,
     "metadata": {},
     "output_type": "execute_result"
    }
   ],
   "source": [
    "data_h.head(10)"
   ]
  },
  {
   "cell_type": "markdown",
   "metadata": {},
   "source": [
    "- Renombre la columna “Numero Ticket” por “TicketID”."
   ]
  },
  {
   "cell_type": "code",
   "execution_count": 9,
   "metadata": {},
   "outputs": [
    {
     "data": {
      "text/plain": [
       "['Numero Ticket',\n",
       " 'Ubicacion',\n",
       " 'Service Desk',\n",
       " 'Estado',\n",
       " 'Fecha Creacion',\n",
       " 'Fecha Termino',\n",
       " 'Fecha Cierre']"
      ]
     },
     "execution_count": 9,
     "metadata": {},
     "output_type": "execute_result"
    }
   ],
   "source": [
    "data_h.columns"
   ]
  },
  {
   "cell_type": "code",
   "execution_count": 10,
   "metadata": {},
   "outputs": [],
   "source": [
    "data_h=data_h.select(\n",
    "    pl.col(\"Numero Ticket\").alias(\"TicketID\"),\n",
    "    \"Ubicacion\",\n",
    "    \"Service Desk\",\n",
    "    \"Estado\",\n",
    "    \"Fecha Creacion\",\n",
    "    \"Fecha Termino\",\n",
    "    \"Fecha Cierre\"\n",
    ")"
   ]
  },
  {
   "cell_type": "code",
   "execution_count": 11,
   "metadata": {},
   "outputs": [
    {
     "data": {
      "text/html": [
       "<div><style>\n",
       ".dataframe > thead > tr,\n",
       ".dataframe > tbody > tr {\n",
       "  text-align: right;\n",
       "  white-space: pre-wrap;\n",
       "}\n",
       "</style>\n",
       "<small>shape: (10, 7)</small><table border=\"1\" class=\"dataframe\"><thead><tr><th>TicketID</th><th>Ubicacion</th><th>Service Desk</th><th>Estado</th><th>Fecha Creacion</th><th>Fecha Termino</th><th>Fecha Cierre</th></tr><tr><td>str</td><td>str</td><td>str</td><td>str</td><td>date</td><td>date</td><td>date</td></tr></thead><tbody><tr><td>&quot;WO0000004122687&quot;</td><td>&quot;AREQUIPA - 215000&quot;</td><td>&quot;Zona Norte&quot;</td><td>&quot;Cerrado&quot;</td><td>2022-06-01</td><td>2022-06-14</td><td>2022-06-14</td></tr><tr><td>&quot;WO0000004122649&quot;</td><td>&quot;METRO AV. WIESSE - 191106&quot;</td><td>&quot;Zona Centro&quot;</td><td>&quot;Cerrado&quot;</td><td>2022-06-01</td><td>2022-06-17</td><td>2022-06-17</td></tr><tr><td>&quot;WO0000004122502&quot;</td><td>&quot;NICOLAS AYLLON - 191027&quot;</td><td>&quot;Zona Centro&quot;</td><td>&quot;Cerrado&quot;</td><td>2022-06-01</td><td>2022-06-08</td><td>2022-06-08</td></tr><tr><td>&quot;WO0000004122513&quot;</td><td>&quot;JAUREGUI - 405005&quot;</td><td>&quot;Zona Norte&quot;</td><td>&quot;Cerrado&quot;</td><td>2022-06-01</td><td>2022-06-18</td><td>2022-06-18</td></tr><tr><td>&quot;WO0000004122741&quot;</td><td>&quot;CANTO GRANDE - 191096&quot;</td><td>&quot;Zona Centro&quot;</td><td>&quot;Cerrado&quot;</td><td>2022-06-01</td><td>2022-06-08</td><td>2022-06-08</td></tr><tr><td>&quot;WO0000004122511&quot;</td><td>&quot;CHIMPU OCLLO - 191113&quot;</td><td>&quot;Zona Centro&quot;</td><td>&quot;Cerrado&quot;</td><td>2022-06-01</td><td>2022-06-03</td><td>2022-06-03</td></tr><tr><td>&quot;WO0000004122522&quot;</td><td>&quot;MINI AGENCIA BCP SALAMANCA - 191090&quot;</td><td>&quot;Zona Centro&quot;</td><td>&quot;Cerrado&quot;</td><td>2022-06-01</td><td>2022-06-07</td><td>2022-06-07</td></tr><tr><td>&quot;WO0000004122302&quot;</td><td>&quot;IMPERIAL - 255001&quot;</td><td>&quot;Zona Norte&quot;</td><td>&quot;Cerrado&quot;</td><td>2022-06-01</td><td>2022-06-10</td><td>2022-06-10</td></tr><tr><td>&quot;WO0000004122360&quot;</td><td>&quot;AREQUIPA - 215000&quot;</td><td>&quot;Zona Norte&quot;</td><td>&quot;Cerrado&quot;</td><td>2022-06-01</td><td>2022-06-13</td><td>2022-06-13</td></tr><tr><td>&quot;WO0000004122688&quot;</td><td>&quot;AREQUIPA - 215000&quot;</td><td>&quot;Zona Norte&quot;</td><td>&quot;Cerrado&quot;</td><td>2022-06-01</td><td>2022-06-17</td><td>2022-06-17</td></tr></tbody></table></div>"
      ],
      "text/plain": [
       "shape: (10, 7)\n",
       "┌──────────────┬──────────────┬──────────────┬─────────┬──────────────┬──────────────┬─────────────┐\n",
       "│ TicketID     ┆ Ubicacion    ┆ Service Desk ┆ Estado  ┆ Fecha        ┆ Fecha        ┆ Fecha       │\n",
       "│ ---          ┆ ---          ┆ ---          ┆ ---     ┆ Creacion     ┆ Termino      ┆ Cierre      │\n",
       "│ str          ┆ str          ┆ str          ┆ str     ┆ ---          ┆ ---          ┆ ---         │\n",
       "│              ┆              ┆              ┆         ┆ date         ┆ date         ┆ date        │\n",
       "╞══════════════╪══════════════╪══════════════╪═════════╪══════════════╪══════════════╪═════════════╡\n",
       "│ WO0000004122 ┆ AREQUIPA -   ┆ Zona Norte   ┆ Cerrado ┆ 2022-06-01   ┆ 2022-06-14   ┆ 2022-06-14  │\n",
       "│ 687          ┆ 215000       ┆              ┆         ┆              ┆              ┆             │\n",
       "│ WO0000004122 ┆ METRO AV.    ┆ Zona Centro  ┆ Cerrado ┆ 2022-06-01   ┆ 2022-06-17   ┆ 2022-06-17  │\n",
       "│ 649          ┆ WIESSE -     ┆              ┆         ┆              ┆              ┆             │\n",
       "│              ┆ 191106       ┆              ┆         ┆              ┆              ┆             │\n",
       "│ WO0000004122 ┆ NICOLAS      ┆ Zona Centro  ┆ Cerrado ┆ 2022-06-01   ┆ 2022-06-08   ┆ 2022-06-08  │\n",
       "│ 502          ┆ AYLLON -     ┆              ┆         ┆              ┆              ┆             │\n",
       "│              ┆ 191027       ┆              ┆         ┆              ┆              ┆             │\n",
       "│ WO0000004122 ┆ JAUREGUI -   ┆ Zona Norte   ┆ Cerrado ┆ 2022-06-01   ┆ 2022-06-18   ┆ 2022-06-18  │\n",
       "│ 513          ┆ 405005       ┆              ┆         ┆              ┆              ┆             │\n",
       "│ WO0000004122 ┆ CANTO GRANDE ┆ Zona Centro  ┆ Cerrado ┆ 2022-06-01   ┆ 2022-06-08   ┆ 2022-06-08  │\n",
       "│ 741          ┆ - 191096     ┆              ┆         ┆              ┆              ┆             │\n",
       "│ WO0000004122 ┆ CHIMPU OCLLO ┆ Zona Centro  ┆ Cerrado ┆ 2022-06-01   ┆ 2022-06-03   ┆ 2022-06-03  │\n",
       "│ 511          ┆ - 191113     ┆              ┆         ┆              ┆              ┆             │\n",
       "│ WO0000004122 ┆ MINI AGENCIA ┆ Zona Centro  ┆ Cerrado ┆ 2022-06-01   ┆ 2022-06-07   ┆ 2022-06-07  │\n",
       "│ 522          ┆ BCP          ┆              ┆         ┆              ┆              ┆             │\n",
       "│              ┆ SALAMANCA -  ┆              ┆         ┆              ┆              ┆             │\n",
       "│              ┆ 191090       ┆              ┆         ┆              ┆              ┆             │\n",
       "│ WO0000004122 ┆ IMPERIAL -   ┆ Zona Norte   ┆ Cerrado ┆ 2022-06-01   ┆ 2022-06-10   ┆ 2022-06-10  │\n",
       "│ 302          ┆ 255001       ┆              ┆         ┆              ┆              ┆             │\n",
       "│ WO0000004122 ┆ AREQUIPA -   ┆ Zona Norte   ┆ Cerrado ┆ 2022-06-01   ┆ 2022-06-13   ┆ 2022-06-13  │\n",
       "│ 360          ┆ 215000       ┆              ┆         ┆              ┆              ┆             │\n",
       "│ WO0000004122 ┆ AREQUIPA -   ┆ Zona Norte   ┆ Cerrado ┆ 2022-06-01   ┆ 2022-06-17   ┆ 2022-06-17  │\n",
       "│ 688          ┆ 215000       ┆              ┆         ┆              ┆              ┆             │\n",
       "└──────────────┴──────────────┴──────────────┴─────────┴──────────────┴──────────────┴─────────────┘"
      ]
     },
     "execution_count": 11,
     "metadata": {},
     "output_type": "execute_result"
    }
   ],
   "source": [
    "data_h.head(10)"
   ]
  },
  {
   "cell_type": "markdown",
   "metadata": {},
   "source": [
    "- Importe la base “Tickets Actual.txt”, indicando que solo se importen las columnas:\n",
    "Numero Ticket, Ubicacion, Service Desk, Estado, Fecha Creacion, Fecha Termino\n",
    "y Fecha Cierre."
   ]
  },
  {
   "cell_type": "code",
   "execution_count": 12,
   "metadata": {},
   "outputs": [],
   "source": [
    "#Leyendo \"Tickets Actual.txt\" y seleccionando columnas \n",
    "data_a=pl.read_csv(\n",
    "    source=\"Tickets Actual.csv\",\n",
    "    separator=\"|\"\n",
    ").select(\n",
    "    \"Numero Ticket\",\n",
    "    \"Ubicacion\",\n",
    "    \"Service Desk\",\n",
    "    \"Estado\",\n",
    "    \"Fecha Creacion\",\n",
    "    \"Fecha Termino\",\n",
    "    \"Fecha Cierre\"\n",
    ")"
   ]
  },
  {
   "cell_type": "code",
   "execution_count": 13,
   "metadata": {},
   "outputs": [
    {
     "data": {
      "text/html": [
       "<div><style>\n",
       ".dataframe > thead > tr,\n",
       ".dataframe > tbody > tr {\n",
       "  text-align: right;\n",
       "  white-space: pre-wrap;\n",
       "}\n",
       "</style>\n",
       "<small>shape: (10, 7)</small><table border=\"1\" class=\"dataframe\"><thead><tr><th>Numero Ticket</th><th>Ubicacion</th><th>Service Desk</th><th>Estado</th><th>Fecha Creacion</th><th>Fecha Termino</th><th>Fecha Cierre</th></tr><tr><td>str</td><td>str</td><td>str</td><td>str</td><td>str</td><td>str</td><td>str</td></tr></thead><tbody><tr><td>&quot;WO0000004853311&quot;</td><td>&quot;TUPAC AMARU - 191038&quot;</td><td>&quot;Zona Centro&quot;</td><td>&quot;Cerrado&quot;</td><td>&quot;2023-01-02&quot;</td><td>&quot;10/01/2023&quot;</td><td>&quot;13/01/2023&quot;</td></tr><tr><td>&quot;WO0000004852942&quot;</td><td>&quot;SAN JUAN DE LURIGANCHO - 191017&quot;</td><td>&quot;Zona Centro&quot;</td><td>&quot;Cerrado&quot;</td><td>&quot;2023-01-02&quot;</td><td>&quot;2/01/2023&quot;</td><td>&quot;5/01/2023&quot;</td></tr><tr><td>&quot;WO0000004852621&quot;</td><td>&quot;MARIANO MELGAR - 215014&quot;</td><td>&quot;Zona Norte&quot;</td><td>&quot;Cerrado&quot;</td><td>&quot;2023-01-02&quot;</td><td>&quot;6/01/2023&quot;</td><td>&quot;9/01/2023&quot;</td></tr><tr><td>&quot;SA0000004853328&quot;</td><td>&quot;ANDAHUAYLAS - 205000&quot;</td><td>&quot;Zona Norte&quot;</td><td>&quot;Cerrado&quot;</td><td>&quot;2023-01-02&quot;</td><td>&quot;7/01/2023&quot;</td><td>&quot;10/01/2023&quot;</td></tr><tr><td>&quot;SA0000004853160&quot;</td><td>&quot;COLLIQUE - 191065&quot;</td><td>&quot;Zona Centro&quot;</td><td>&quot;Cerrado&quot;</td><td>&quot;2023-01-02&quot;</td><td>&quot;4/01/2023&quot;</td><td>&quot;7/01/2023&quot;</td></tr><tr><td>&quot;SA0000004853158&quot;</td><td>&quot;COLLIQUE - 191065&quot;</td><td>&quot;Zona Centro&quot;</td><td>&quot;Cerrado&quot;</td><td>&quot;2023-01-02&quot;</td><td>&quot;6/01/2023&quot;</td><td>&quot;9/01/2023&quot;</td></tr><tr><td>&quot;SA0000004853157&quot;</td><td>&quot;COLLIQUE - 191065&quot;</td><td>&quot;Zona Centro&quot;</td><td>&quot;Cerrado&quot;</td><td>&quot;2023-01-02&quot;</td><td>&quot;4/01/2023&quot;</td><td>&quot;7/01/2023&quot;</td></tr><tr><td>&quot;SA0000004853156&quot;</td><td>&quot;COLLIQUE - 191065&quot;</td><td>&quot;Zona Centro&quot;</td><td>&quot;Cerrado&quot;</td><td>&quot;2023-01-02&quot;</td><td>&quot;15/01/2023&quot;</td><td>&quot;18/01/2023&quot;</td></tr><tr><td>&quot;WO0000004853328&quot;</td><td>&quot;ANDAHUAYLAS - 205000&quot;</td><td>&quot;Zona Norte&quot;</td><td>&quot;Cerrado&quot;</td><td>&quot;2023-01-02&quot;</td><td>&quot;7/01/2023&quot;</td><td>&quot;10/01/2023&quot;</td></tr><tr><td>&quot;WO0000004853160&quot;</td><td>&quot;COLLIQUE - 191065&quot;</td><td>&quot;Zona Centro&quot;</td><td>&quot;Cerrado&quot;</td><td>&quot;2023-01-02&quot;</td><td>&quot;4/01/2023&quot;</td><td>&quot;7/01/2023&quot;</td></tr></tbody></table></div>"
      ],
      "text/plain": [
       "shape: (10, 7)\n",
       "┌──────────────┬──────────────┬──────────────┬─────────┬──────────────┬──────────────┬─────────────┐\n",
       "│ Numero       ┆ Ubicacion    ┆ Service Desk ┆ Estado  ┆ Fecha        ┆ Fecha        ┆ Fecha       │\n",
       "│ Ticket       ┆ ---          ┆ ---          ┆ ---     ┆ Creacion     ┆ Termino      ┆ Cierre      │\n",
       "│ ---          ┆ str          ┆ str          ┆ str     ┆ ---          ┆ ---          ┆ ---         │\n",
       "│ str          ┆              ┆              ┆         ┆ str          ┆ str          ┆ str         │\n",
       "╞══════════════╪══════════════╪══════════════╪═════════╪══════════════╪══════════════╪═════════════╡\n",
       "│ WO0000004853 ┆ TUPAC AMARU  ┆ Zona Centro  ┆ Cerrado ┆ 2023-01-02   ┆ 10/01/2023   ┆ 13/01/2023  │\n",
       "│ 311          ┆ - 191038     ┆              ┆         ┆              ┆              ┆             │\n",
       "│ WO0000004852 ┆ SAN JUAN DE  ┆ Zona Centro  ┆ Cerrado ┆ 2023-01-02   ┆ 2/01/2023    ┆ 5/01/2023   │\n",
       "│ 942          ┆ LURIGANCHO - ┆              ┆         ┆              ┆              ┆             │\n",
       "│              ┆ 191017       ┆              ┆         ┆              ┆              ┆             │\n",
       "│ WO0000004852 ┆ MARIANO      ┆ Zona Norte   ┆ Cerrado ┆ 2023-01-02   ┆ 6/01/2023    ┆ 9/01/2023   │\n",
       "│ 621          ┆ MELGAR -     ┆              ┆         ┆              ┆              ┆             │\n",
       "│              ┆ 215014       ┆              ┆         ┆              ┆              ┆             │\n",
       "│ SA0000004853 ┆ ANDAHUAYLAS  ┆ Zona Norte   ┆ Cerrado ┆ 2023-01-02   ┆ 7/01/2023    ┆ 10/01/2023  │\n",
       "│ 328          ┆ - 205000     ┆              ┆         ┆              ┆              ┆             │\n",
       "│ SA0000004853 ┆ COLLIQUE -   ┆ Zona Centro  ┆ Cerrado ┆ 2023-01-02   ┆ 4/01/2023    ┆ 7/01/2023   │\n",
       "│ 160          ┆ 191065       ┆              ┆         ┆              ┆              ┆             │\n",
       "│ SA0000004853 ┆ COLLIQUE -   ┆ Zona Centro  ┆ Cerrado ┆ 2023-01-02   ┆ 6/01/2023    ┆ 9/01/2023   │\n",
       "│ 158          ┆ 191065       ┆              ┆         ┆              ┆              ┆             │\n",
       "│ SA0000004853 ┆ COLLIQUE -   ┆ Zona Centro  ┆ Cerrado ┆ 2023-01-02   ┆ 4/01/2023    ┆ 7/01/2023   │\n",
       "│ 157          ┆ 191065       ┆              ┆         ┆              ┆              ┆             │\n",
       "│ SA0000004853 ┆ COLLIQUE -   ┆ Zona Centro  ┆ Cerrado ┆ 2023-01-02   ┆ 15/01/2023   ┆ 18/01/2023  │\n",
       "│ 156          ┆ 191065       ┆              ┆         ┆              ┆              ┆             │\n",
       "│ WO0000004853 ┆ ANDAHUAYLAS  ┆ Zona Norte   ┆ Cerrado ┆ 2023-01-02   ┆ 7/01/2023    ┆ 10/01/2023  │\n",
       "│ 328          ┆ - 205000     ┆              ┆         ┆              ┆              ┆             │\n",
       "│ WO0000004853 ┆ COLLIQUE -   ┆ Zona Centro  ┆ Cerrado ┆ 2023-01-02   ┆ 4/01/2023    ┆ 7/01/2023   │\n",
       "│ 160          ┆ 191065       ┆              ┆         ┆              ┆              ┆             │\n",
       "└──────────────┴──────────────┴──────────────┴─────────┴──────────────┴──────────────┴─────────────┘"
      ]
     },
     "execution_count": 13,
     "metadata": {},
     "output_type": "execute_result"
    }
   ],
   "source": [
    "data_a.head(10)"
   ]
  },
  {
   "cell_type": "markdown",
   "metadata": {},
   "source": [
    "- Renombre la columna “Numero Ticket” por “TicketID”."
   ]
  },
  {
   "cell_type": "code",
   "execution_count": 14,
   "metadata": {},
   "outputs": [],
   "source": [
    "data_a=data_a.select(\n",
    "    pl.col(\"Numero Ticket\").alias(\"TicketID\"),\n",
    "    \"Ubicacion\",\n",
    "    \"Service Desk\",\n",
    "    \"Estado\",\n",
    "    \"Fecha Creacion\",\n",
    "    \"Fecha Termino\",\n",
    "    \"Fecha Cierre\"\n",
    ")"
   ]
  },
  {
   "cell_type": "code",
   "execution_count": 15,
   "metadata": {},
   "outputs": [
    {
     "data": {
      "text/html": [
       "<div><style>\n",
       ".dataframe > thead > tr,\n",
       ".dataframe > tbody > tr {\n",
       "  text-align: right;\n",
       "  white-space: pre-wrap;\n",
       "}\n",
       "</style>\n",
       "<small>shape: (5, 7)</small><table border=\"1\" class=\"dataframe\"><thead><tr><th>TicketID</th><th>Ubicacion</th><th>Service Desk</th><th>Estado</th><th>Fecha Creacion</th><th>Fecha Termino</th><th>Fecha Cierre</th></tr><tr><td>str</td><td>str</td><td>str</td><td>str</td><td>str</td><td>str</td><td>str</td></tr></thead><tbody><tr><td>&quot;WO0000004853311&quot;</td><td>&quot;TUPAC AMARU - 191038&quot;</td><td>&quot;Zona Centro&quot;</td><td>&quot;Cerrado&quot;</td><td>&quot;2023-01-02&quot;</td><td>&quot;10/01/2023&quot;</td><td>&quot;13/01/2023&quot;</td></tr><tr><td>&quot;WO0000004852942&quot;</td><td>&quot;SAN JUAN DE LURIGANCHO - 191017&quot;</td><td>&quot;Zona Centro&quot;</td><td>&quot;Cerrado&quot;</td><td>&quot;2023-01-02&quot;</td><td>&quot;2/01/2023&quot;</td><td>&quot;5/01/2023&quot;</td></tr><tr><td>&quot;WO0000004852621&quot;</td><td>&quot;MARIANO MELGAR - 215014&quot;</td><td>&quot;Zona Norte&quot;</td><td>&quot;Cerrado&quot;</td><td>&quot;2023-01-02&quot;</td><td>&quot;6/01/2023&quot;</td><td>&quot;9/01/2023&quot;</td></tr><tr><td>&quot;SA0000004853328&quot;</td><td>&quot;ANDAHUAYLAS - 205000&quot;</td><td>&quot;Zona Norte&quot;</td><td>&quot;Cerrado&quot;</td><td>&quot;2023-01-02&quot;</td><td>&quot;7/01/2023&quot;</td><td>&quot;10/01/2023&quot;</td></tr><tr><td>&quot;SA0000004853160&quot;</td><td>&quot;COLLIQUE - 191065&quot;</td><td>&quot;Zona Centro&quot;</td><td>&quot;Cerrado&quot;</td><td>&quot;2023-01-02&quot;</td><td>&quot;4/01/2023&quot;</td><td>&quot;7/01/2023&quot;</td></tr></tbody></table></div>"
      ],
      "text/plain": [
       "shape: (5, 7)\n",
       "┌──────────────┬──────────────┬──────────────┬─────────┬──────────────┬──────────────┬─────────────┐\n",
       "│ TicketID     ┆ Ubicacion    ┆ Service Desk ┆ Estado  ┆ Fecha        ┆ Fecha        ┆ Fecha       │\n",
       "│ ---          ┆ ---          ┆ ---          ┆ ---     ┆ Creacion     ┆ Termino      ┆ Cierre      │\n",
       "│ str          ┆ str          ┆ str          ┆ str     ┆ ---          ┆ ---          ┆ ---         │\n",
       "│              ┆              ┆              ┆         ┆ str          ┆ str          ┆ str         │\n",
       "╞══════════════╪══════════════╪══════════════╪═════════╪══════════════╪══════════════╪═════════════╡\n",
       "│ WO0000004853 ┆ TUPAC AMARU  ┆ Zona Centro  ┆ Cerrado ┆ 2023-01-02   ┆ 10/01/2023   ┆ 13/01/2023  │\n",
       "│ 311          ┆ - 191038     ┆              ┆         ┆              ┆              ┆             │\n",
       "│ WO0000004852 ┆ SAN JUAN DE  ┆ Zona Centro  ┆ Cerrado ┆ 2023-01-02   ┆ 2/01/2023    ┆ 5/01/2023   │\n",
       "│ 942          ┆ LURIGANCHO - ┆              ┆         ┆              ┆              ┆             │\n",
       "│              ┆ 191017       ┆              ┆         ┆              ┆              ┆             │\n",
       "│ WO0000004852 ┆ MARIANO      ┆ Zona Norte   ┆ Cerrado ┆ 2023-01-02   ┆ 6/01/2023    ┆ 9/01/2023   │\n",
       "│ 621          ┆ MELGAR -     ┆              ┆         ┆              ┆              ┆             │\n",
       "│              ┆ 215014       ┆              ┆         ┆              ┆              ┆             │\n",
       "│ SA0000004853 ┆ ANDAHUAYLAS  ┆ Zona Norte   ┆ Cerrado ┆ 2023-01-02   ┆ 7/01/2023    ┆ 10/01/2023  │\n",
       "│ 328          ┆ - 205000     ┆              ┆         ┆              ┆              ┆             │\n",
       "│ SA0000004853 ┆ COLLIQUE -   ┆ Zona Centro  ┆ Cerrado ┆ 2023-01-02   ┆ 4/01/2023    ┆ 7/01/2023   │\n",
       "│ 160          ┆ 191065       ┆              ┆         ┆              ┆              ┆             │\n",
       "└──────────────┴──────────────┴──────────────┴─────────┴──────────────┴──────────────┴─────────────┘"
      ]
     },
     "execution_count": 15,
     "metadata": {},
     "output_type": "execute_result"
    }
   ],
   "source": [
    "data_a.head(\n",
    ")"
   ]
  },
  {
   "cell_type": "markdown",
   "metadata": {},
   "source": [
    "- Asigne el tipo de dato fecha a las columnas Fecha Creacion, Fecha Termino y\n",
    "Fecha Cierre."
   ]
  },
  {
   "cell_type": "code",
   "execution_count": 16,
   "metadata": {},
   "outputs": [],
   "source": [
    "data_a=data_a.select(\n",
    "    \"TicketID\",\n",
    "    \"Ubicacion\",\n",
    "    \"Service Desk\",\n",
    "    \"Estado\",\n",
    "    pl.col(\"Fecha Creacion\").cast(pl.Date),\n",
    "    pl.col(\"Fecha Termino\").str.to_date(format='%d/%m/%Y'),\n",
    "    pl.col(\"Fecha Cierre\").str.to_date(format='%d/%m/%Y')\n",
    ")"
   ]
  },
  {
   "cell_type": "code",
   "execution_count": 17,
   "metadata": {},
   "outputs": [
    {
     "data": {
      "text/html": [
       "<div><style>\n",
       ".dataframe > thead > tr,\n",
       ".dataframe > tbody > tr {\n",
       "  text-align: right;\n",
       "  white-space: pre-wrap;\n",
       "}\n",
       "</style>\n",
       "<small>shape: (10, 7)</small><table border=\"1\" class=\"dataframe\"><thead><tr><th>TicketID</th><th>Ubicacion</th><th>Service Desk</th><th>Estado</th><th>Fecha Creacion</th><th>Fecha Termino</th><th>Fecha Cierre</th></tr><tr><td>str</td><td>str</td><td>str</td><td>str</td><td>date</td><td>date</td><td>date</td></tr></thead><tbody><tr><td>&quot;WO0000004853311&quot;</td><td>&quot;TUPAC AMARU - 191038&quot;</td><td>&quot;Zona Centro&quot;</td><td>&quot;Cerrado&quot;</td><td>2023-01-02</td><td>2023-01-10</td><td>2023-01-13</td></tr><tr><td>&quot;WO0000004852942&quot;</td><td>&quot;SAN JUAN DE LURIGANCHO - 191017&quot;</td><td>&quot;Zona Centro&quot;</td><td>&quot;Cerrado&quot;</td><td>2023-01-02</td><td>2023-01-02</td><td>2023-01-05</td></tr><tr><td>&quot;WO0000004852621&quot;</td><td>&quot;MARIANO MELGAR - 215014&quot;</td><td>&quot;Zona Norte&quot;</td><td>&quot;Cerrado&quot;</td><td>2023-01-02</td><td>2023-01-06</td><td>2023-01-09</td></tr><tr><td>&quot;SA0000004853328&quot;</td><td>&quot;ANDAHUAYLAS - 205000&quot;</td><td>&quot;Zona Norte&quot;</td><td>&quot;Cerrado&quot;</td><td>2023-01-02</td><td>2023-01-07</td><td>2023-01-10</td></tr><tr><td>&quot;SA0000004853160&quot;</td><td>&quot;COLLIQUE - 191065&quot;</td><td>&quot;Zona Centro&quot;</td><td>&quot;Cerrado&quot;</td><td>2023-01-02</td><td>2023-01-04</td><td>2023-01-07</td></tr><tr><td>&quot;SA0000004853158&quot;</td><td>&quot;COLLIQUE - 191065&quot;</td><td>&quot;Zona Centro&quot;</td><td>&quot;Cerrado&quot;</td><td>2023-01-02</td><td>2023-01-06</td><td>2023-01-09</td></tr><tr><td>&quot;SA0000004853157&quot;</td><td>&quot;COLLIQUE - 191065&quot;</td><td>&quot;Zona Centro&quot;</td><td>&quot;Cerrado&quot;</td><td>2023-01-02</td><td>2023-01-04</td><td>2023-01-07</td></tr><tr><td>&quot;SA0000004853156&quot;</td><td>&quot;COLLIQUE - 191065&quot;</td><td>&quot;Zona Centro&quot;</td><td>&quot;Cerrado&quot;</td><td>2023-01-02</td><td>2023-01-15</td><td>2023-01-18</td></tr><tr><td>&quot;WO0000004853328&quot;</td><td>&quot;ANDAHUAYLAS - 205000&quot;</td><td>&quot;Zona Norte&quot;</td><td>&quot;Cerrado&quot;</td><td>2023-01-02</td><td>2023-01-07</td><td>2023-01-10</td></tr><tr><td>&quot;WO0000004853160&quot;</td><td>&quot;COLLIQUE - 191065&quot;</td><td>&quot;Zona Centro&quot;</td><td>&quot;Cerrado&quot;</td><td>2023-01-02</td><td>2023-01-04</td><td>2023-01-07</td></tr></tbody></table></div>"
      ],
      "text/plain": [
       "shape: (10, 7)\n",
       "┌──────────────┬──────────────┬──────────────┬─────────┬──────────────┬──────────────┬─────────────┐\n",
       "│ TicketID     ┆ Ubicacion    ┆ Service Desk ┆ Estado  ┆ Fecha        ┆ Fecha        ┆ Fecha       │\n",
       "│ ---          ┆ ---          ┆ ---          ┆ ---     ┆ Creacion     ┆ Termino      ┆ Cierre      │\n",
       "│ str          ┆ str          ┆ str          ┆ str     ┆ ---          ┆ ---          ┆ ---         │\n",
       "│              ┆              ┆              ┆         ┆ date         ┆ date         ┆ date        │\n",
       "╞══════════════╪══════════════╪══════════════╪═════════╪══════════════╪══════════════╪═════════════╡\n",
       "│ WO0000004853 ┆ TUPAC AMARU  ┆ Zona Centro  ┆ Cerrado ┆ 2023-01-02   ┆ 2023-01-10   ┆ 2023-01-13  │\n",
       "│ 311          ┆ - 191038     ┆              ┆         ┆              ┆              ┆             │\n",
       "│ WO0000004852 ┆ SAN JUAN DE  ┆ Zona Centro  ┆ Cerrado ┆ 2023-01-02   ┆ 2023-01-02   ┆ 2023-01-05  │\n",
       "│ 942          ┆ LURIGANCHO - ┆              ┆         ┆              ┆              ┆             │\n",
       "│              ┆ 191017       ┆              ┆         ┆              ┆              ┆             │\n",
       "│ WO0000004852 ┆ MARIANO      ┆ Zona Norte   ┆ Cerrado ┆ 2023-01-02   ┆ 2023-01-06   ┆ 2023-01-09  │\n",
       "│ 621          ┆ MELGAR -     ┆              ┆         ┆              ┆              ┆             │\n",
       "│              ┆ 215014       ┆              ┆         ┆              ┆              ┆             │\n",
       "│ SA0000004853 ┆ ANDAHUAYLAS  ┆ Zona Norte   ┆ Cerrado ┆ 2023-01-02   ┆ 2023-01-07   ┆ 2023-01-10  │\n",
       "│ 328          ┆ - 205000     ┆              ┆         ┆              ┆              ┆             │\n",
       "│ SA0000004853 ┆ COLLIQUE -   ┆ Zona Centro  ┆ Cerrado ┆ 2023-01-02   ┆ 2023-01-04   ┆ 2023-01-07  │\n",
       "│ 160          ┆ 191065       ┆              ┆         ┆              ┆              ┆             │\n",
       "│ SA0000004853 ┆ COLLIQUE -   ┆ Zona Centro  ┆ Cerrado ┆ 2023-01-02   ┆ 2023-01-06   ┆ 2023-01-09  │\n",
       "│ 158          ┆ 191065       ┆              ┆         ┆              ┆              ┆             │\n",
       "│ SA0000004853 ┆ COLLIQUE -   ┆ Zona Centro  ┆ Cerrado ┆ 2023-01-02   ┆ 2023-01-04   ┆ 2023-01-07  │\n",
       "│ 157          ┆ 191065       ┆              ┆         ┆              ┆              ┆             │\n",
       "│ SA0000004853 ┆ COLLIQUE -   ┆ Zona Centro  ┆ Cerrado ┆ 2023-01-02   ┆ 2023-01-15   ┆ 2023-01-18  │\n",
       "│ 156          ┆ 191065       ┆              ┆         ┆              ┆              ┆             │\n",
       "│ WO0000004853 ┆ ANDAHUAYLAS  ┆ Zona Norte   ┆ Cerrado ┆ 2023-01-02   ┆ 2023-01-07   ┆ 2023-01-10  │\n",
       "│ 328          ┆ - 205000     ┆              ┆         ┆              ┆              ┆             │\n",
       "│ WO0000004853 ┆ COLLIQUE -   ┆ Zona Centro  ┆ Cerrado ┆ 2023-01-02   ┆ 2023-01-04   ┆ 2023-01-07  │\n",
       "│ 160          ┆ 191065       ┆              ┆         ┆              ┆              ┆             │\n",
       "└──────────────┴──────────────┴──────────────┴─────────┴──────────────┴──────────────┴─────────────┘"
      ]
     },
     "execution_count": 17,
     "metadata": {},
     "output_type": "execute_result"
    }
   ],
   "source": [
    "data_a.head(10)"
   ]
  },
  {
   "cell_type": "markdown",
   "metadata": {},
   "source": [
    "- Filtre la base actual de tal manera que solo se mantengan aquellos registros\n",
    "donde el TicketID inicia con WO."
   ]
  },
  {
   "cell_type": "code",
   "execution_count": 18,
   "metadata": {},
   "outputs": [],
   "source": [
    "data_a=data_a.filter(\n",
    "    pl.col(\"TicketID\").str.starts_with('WO')\n",
    ")"
   ]
  },
  {
   "cell_type": "code",
   "execution_count": 19,
   "metadata": {},
   "outputs": [
    {
     "data": {
      "text/html": [
       "<div><style>\n",
       ".dataframe > thead > tr,\n",
       ".dataframe > tbody > tr {\n",
       "  text-align: right;\n",
       "  white-space: pre-wrap;\n",
       "}\n",
       "</style>\n",
       "<small>shape: (5, 7)</small><table border=\"1\" class=\"dataframe\"><thead><tr><th>TicketID</th><th>Ubicacion</th><th>Service Desk</th><th>Estado</th><th>Fecha Creacion</th><th>Fecha Termino</th><th>Fecha Cierre</th></tr><tr><td>str</td><td>str</td><td>str</td><td>str</td><td>date</td><td>date</td><td>date</td></tr></thead><tbody><tr><td>&quot;WO0000004853311&quot;</td><td>&quot;TUPAC AMARU - 191038&quot;</td><td>&quot;Zona Centro&quot;</td><td>&quot;Cerrado&quot;</td><td>2023-01-02</td><td>2023-01-10</td><td>2023-01-13</td></tr><tr><td>&quot;WO0000004852942&quot;</td><td>&quot;SAN JUAN DE LURIGANCHO - 191017&quot;</td><td>&quot;Zona Centro&quot;</td><td>&quot;Cerrado&quot;</td><td>2023-01-02</td><td>2023-01-02</td><td>2023-01-05</td></tr><tr><td>&quot;WO0000004852621&quot;</td><td>&quot;MARIANO MELGAR - 215014&quot;</td><td>&quot;Zona Norte&quot;</td><td>&quot;Cerrado&quot;</td><td>2023-01-02</td><td>2023-01-06</td><td>2023-01-09</td></tr><tr><td>&quot;WO0000004853328&quot;</td><td>&quot;ANDAHUAYLAS - 205000&quot;</td><td>&quot;Zona Norte&quot;</td><td>&quot;Cerrado&quot;</td><td>2023-01-02</td><td>2023-01-07</td><td>2023-01-10</td></tr><tr><td>&quot;WO0000004853160&quot;</td><td>&quot;COLLIQUE - 191065&quot;</td><td>&quot;Zona Centro&quot;</td><td>&quot;Cerrado&quot;</td><td>2023-01-02</td><td>2023-01-04</td><td>2023-01-07</td></tr></tbody></table></div>"
      ],
      "text/plain": [
       "shape: (5, 7)\n",
       "┌──────────────┬──────────────┬──────────────┬─────────┬──────────────┬──────────────┬─────────────┐\n",
       "│ TicketID     ┆ Ubicacion    ┆ Service Desk ┆ Estado  ┆ Fecha        ┆ Fecha        ┆ Fecha       │\n",
       "│ ---          ┆ ---          ┆ ---          ┆ ---     ┆ Creacion     ┆ Termino      ┆ Cierre      │\n",
       "│ str          ┆ str          ┆ str          ┆ str     ┆ ---          ┆ ---          ┆ ---         │\n",
       "│              ┆              ┆              ┆         ┆ date         ┆ date         ┆ date        │\n",
       "╞══════════════╪══════════════╪══════════════╪═════════╪══════════════╪══════════════╪═════════════╡\n",
       "│ WO0000004853 ┆ TUPAC AMARU  ┆ Zona Centro  ┆ Cerrado ┆ 2023-01-02   ┆ 2023-01-10   ┆ 2023-01-13  │\n",
       "│ 311          ┆ - 191038     ┆              ┆         ┆              ┆              ┆             │\n",
       "│ WO0000004852 ┆ SAN JUAN DE  ┆ Zona Centro  ┆ Cerrado ┆ 2023-01-02   ┆ 2023-01-02   ┆ 2023-01-05  │\n",
       "│ 942          ┆ LURIGANCHO - ┆              ┆         ┆              ┆              ┆             │\n",
       "│              ┆ 191017       ┆              ┆         ┆              ┆              ┆             │\n",
       "│ WO0000004852 ┆ MARIANO      ┆ Zona Norte   ┆ Cerrado ┆ 2023-01-02   ┆ 2023-01-06   ┆ 2023-01-09  │\n",
       "│ 621          ┆ MELGAR -     ┆              ┆         ┆              ┆              ┆             │\n",
       "│              ┆ 215014       ┆              ┆         ┆              ┆              ┆             │\n",
       "│ WO0000004853 ┆ ANDAHUAYLAS  ┆ Zona Norte   ┆ Cerrado ┆ 2023-01-02   ┆ 2023-01-07   ┆ 2023-01-10  │\n",
       "│ 328          ┆ - 205000     ┆              ┆         ┆              ┆              ┆             │\n",
       "│ WO0000004853 ┆ COLLIQUE -   ┆ Zona Centro  ┆ Cerrado ┆ 2023-01-02   ┆ 2023-01-04   ┆ 2023-01-07  │\n",
       "│ 160          ┆ 191065       ┆              ┆         ┆              ┆              ┆             │\n",
       "└──────────────┴──────────────┴──────────────┴─────────┴──────────────┴──────────────┴─────────────┘"
      ]
     },
     "execution_count": 19,
     "metadata": {},
     "output_type": "execute_result"
    }
   ],
   "source": [
    "data_a.head()"
   ]
  },
  {
   "cell_type": "markdown",
   "metadata": {},
   "source": [
    "- Anexe o concatene la base histórica y la base actual con el fin de crear un\n",
    "dataframe único llamado Tickets."
   ]
  },
  {
   "cell_type": "code",
   "execution_count": 20,
   "metadata": {},
   "outputs": [
    {
     "data": {
      "text/html": [
       "<div><style>\n",
       ".dataframe > thead > tr,\n",
       ".dataframe > tbody > tr {\n",
       "  text-align: right;\n",
       "  white-space: pre-wrap;\n",
       "}\n",
       "</style>\n",
       "<small>shape: (5, 7)</small><table border=\"1\" class=\"dataframe\"><thead><tr><th>TicketID</th><th>Ubicacion</th><th>Service Desk</th><th>Estado</th><th>Fecha Creacion</th><th>Fecha Termino</th><th>Fecha Cierre</th></tr><tr><td>str</td><td>str</td><td>str</td><td>str</td><td>date</td><td>date</td><td>date</td></tr></thead><tbody><tr><td>&quot;WO0000004122687&quot;</td><td>&quot;AREQUIPA - 215000&quot;</td><td>&quot;Zona Norte&quot;</td><td>&quot;Cerrado&quot;</td><td>2022-06-01</td><td>2022-06-14</td><td>2022-06-14</td></tr><tr><td>&quot;WO0000004122649&quot;</td><td>&quot;METRO AV. WIESSE - 191106&quot;</td><td>&quot;Zona Centro&quot;</td><td>&quot;Cerrado&quot;</td><td>2022-06-01</td><td>2022-06-17</td><td>2022-06-17</td></tr><tr><td>&quot;WO0000004122502&quot;</td><td>&quot;NICOLAS AYLLON - 191027&quot;</td><td>&quot;Zona Centro&quot;</td><td>&quot;Cerrado&quot;</td><td>2022-06-01</td><td>2022-06-08</td><td>2022-06-08</td></tr><tr><td>&quot;WO0000004122513&quot;</td><td>&quot;JAUREGUI - 405005&quot;</td><td>&quot;Zona Norte&quot;</td><td>&quot;Cerrado&quot;</td><td>2022-06-01</td><td>2022-06-18</td><td>2022-06-18</td></tr><tr><td>&quot;WO0000004122741&quot;</td><td>&quot;CANTO GRANDE - 191096&quot;</td><td>&quot;Zona Centro&quot;</td><td>&quot;Cerrado&quot;</td><td>2022-06-01</td><td>2022-06-08</td><td>2022-06-08</td></tr></tbody></table></div>"
      ],
      "text/plain": [
       "shape: (5, 7)\n",
       "┌──────────────┬──────────────┬──────────────┬─────────┬──────────────┬──────────────┬─────────────┐\n",
       "│ TicketID     ┆ Ubicacion    ┆ Service Desk ┆ Estado  ┆ Fecha        ┆ Fecha        ┆ Fecha       │\n",
       "│ ---          ┆ ---          ┆ ---          ┆ ---     ┆ Creacion     ┆ Termino      ┆ Cierre      │\n",
       "│ str          ┆ str          ┆ str          ┆ str     ┆ ---          ┆ ---          ┆ ---         │\n",
       "│              ┆              ┆              ┆         ┆ date         ┆ date         ┆ date        │\n",
       "╞══════════════╪══════════════╪══════════════╪═════════╪══════════════╪══════════════╪═════════════╡\n",
       "│ WO0000004122 ┆ AREQUIPA -   ┆ Zona Norte   ┆ Cerrado ┆ 2022-06-01   ┆ 2022-06-14   ┆ 2022-06-14  │\n",
       "│ 687          ┆ 215000       ┆              ┆         ┆              ┆              ┆             │\n",
       "│ WO0000004122 ┆ METRO AV.    ┆ Zona Centro  ┆ Cerrado ┆ 2022-06-01   ┆ 2022-06-17   ┆ 2022-06-17  │\n",
       "│ 649          ┆ WIESSE -     ┆              ┆         ┆              ┆              ┆             │\n",
       "│              ┆ 191106       ┆              ┆         ┆              ┆              ┆             │\n",
       "│ WO0000004122 ┆ NICOLAS      ┆ Zona Centro  ┆ Cerrado ┆ 2022-06-01   ┆ 2022-06-08   ┆ 2022-06-08  │\n",
       "│ 502          ┆ AYLLON -     ┆              ┆         ┆              ┆              ┆             │\n",
       "│              ┆ 191027       ┆              ┆         ┆              ┆              ┆             │\n",
       "│ WO0000004122 ┆ JAUREGUI -   ┆ Zona Norte   ┆ Cerrado ┆ 2022-06-01   ┆ 2022-06-18   ┆ 2022-06-18  │\n",
       "│ 513          ┆ 405005       ┆              ┆         ┆              ┆              ┆             │\n",
       "│ WO0000004122 ┆ CANTO GRANDE ┆ Zona Centro  ┆ Cerrado ┆ 2022-06-01   ┆ 2022-06-08   ┆ 2022-06-08  │\n",
       "│ 741          ┆ - 191096     ┆              ┆         ┆              ┆              ┆             │\n",
       "└──────────────┴──────────────┴──────────────┴─────────┴──────────────┴──────────────┴─────────────┘"
      ]
     },
     "execution_count": 20,
     "metadata": {},
     "output_type": "execute_result"
    }
   ],
   "source": [
    "tickets=pl.concat([data_h,data_a])\n",
    "tickets.head()"
   ]
  },
  {
   "cell_type": "markdown",
   "metadata": {},
   "source": [
    "- En la base Tickets no deberían existir duplicados, usted deberá eliminar los\n",
    "duplicados basados en la base."
   ]
  },
  {
   "cell_type": "code",
   "execution_count": 21,
   "metadata": {},
   "outputs": [
    {
     "data": {
      "text/plain": [
       "(22215, 7)"
      ]
     },
     "execution_count": 21,
     "metadata": {},
     "output_type": "execute_result"
    }
   ],
   "source": [
    "tickets.unique(\n",
    "    subset='TicketID',\n",
    "    keep='last',\n",
    "    maintain_order=True\n",
    ").shape"
   ]
  },
  {
   "cell_type": "markdown",
   "metadata": {},
   "source": [
    "- Elimine los duplicados de la base Tickets en base a la siguiente regla: Si existen\n",
    "dos registros cuyo TicketID es igual, debe mantenerse aquel registro donde la\n",
    "[Fecha Creacion] sea la más actual."
   ]
  },
  {
   "cell_type": "code",
   "execution_count": 22,
   "metadata": {},
   "outputs": [],
   "source": [
    "tickets=tickets.sort(\n",
    "    by=['TicketID','Fecha Creacion']\n",
    ").unique(\n",
    "    subset='TicketID',\n",
    "    keep='last',\n",
    "    maintain_order=True\n",
    ")"
   ]
  },
  {
   "cell_type": "code",
   "execution_count": 23,
   "metadata": {},
   "outputs": [
    {
     "data": {
      "text/html": [
       "<div><style>\n",
       ".dataframe > thead > tr,\n",
       ".dataframe > tbody > tr {\n",
       "  text-align: right;\n",
       "  white-space: pre-wrap;\n",
       "}\n",
       "</style>\n",
       "<small>shape: (5, 7)</small><table border=\"1\" class=\"dataframe\"><thead><tr><th>TicketID</th><th>Ubicacion</th><th>Service Desk</th><th>Estado</th><th>Fecha Creacion</th><th>Fecha Termino</th><th>Fecha Cierre</th></tr><tr><td>str</td><td>str</td><td>str</td><td>str</td><td>date</td><td>date</td><td>date</td></tr></thead><tbody><tr><td>&quot;OT0000004849379&quot;</td><td>&quot;NAYLAMP - 191143&quot;</td><td>&quot;Zona Centro&quot;</td><td>&quot;Cerrado&quot;</td><td>2022-12-31</td><td>2023-01-25</td><td>2023-01-28</td></tr><tr><td>&quot;OT0000004849382&quot;</td><td>&quot;LOS DAMASCOS - 193038&quot;</td><td>&quot;Zona Sur&quot;</td><td>&quot;Cerrado&quot;</td><td>2022-12-31</td><td>2023-01-04</td><td>2023-01-07</td></tr><tr><td>&quot;OT0000004849726&quot;</td><td>&quot;LUREN - 380004&quot;</td><td>&quot;Zona Sur&quot;</td><td>&quot;Cerrado&quot;</td><td>2022-12-31</td><td>2023-01-02</td><td>2023-01-05</td></tr><tr><td>&quot;OT0000004849732&quot;</td><td>&quot;EL PINO - 191087&quot;</td><td>&quot;Zona Centro&quot;</td><td>&quot;Cerrado&quot;</td><td>2022-12-31</td><td>2023-01-06</td><td>2023-01-09</td></tr><tr><td>&quot;SA0000004849307&quot;</td><td>&quot;TUSILAGOS - 191108&quot;</td><td>&quot;Zona Centro&quot;</td><td>&quot;Rechazado&quot;</td><td>2022-12-31</td><td>null</td><td>null</td></tr></tbody></table></div>"
      ],
      "text/plain": [
       "shape: (5, 7)\n",
       "┌──────────────┬──────────────┬──────────────┬───────────┬─────────────┬─────────────┬─────────────┐\n",
       "│ TicketID     ┆ Ubicacion    ┆ Service Desk ┆ Estado    ┆ Fecha       ┆ Fecha       ┆ Fecha       │\n",
       "│ ---          ┆ ---          ┆ ---          ┆ ---       ┆ Creacion    ┆ Termino     ┆ Cierre      │\n",
       "│ str          ┆ str          ┆ str          ┆ str       ┆ ---         ┆ ---         ┆ ---         │\n",
       "│              ┆              ┆              ┆           ┆ date        ┆ date        ┆ date        │\n",
       "╞══════════════╪══════════════╪══════════════╪═══════════╪═════════════╪═════════════╪═════════════╡\n",
       "│ OT0000004849 ┆ NAYLAMP -    ┆ Zona Centro  ┆ Cerrado   ┆ 2022-12-31  ┆ 2023-01-25  ┆ 2023-01-28  │\n",
       "│ 379          ┆ 191143       ┆              ┆           ┆             ┆             ┆             │\n",
       "│ OT0000004849 ┆ LOS DAMASCOS ┆ Zona Sur     ┆ Cerrado   ┆ 2022-12-31  ┆ 2023-01-04  ┆ 2023-01-07  │\n",
       "│ 382          ┆ - 193038     ┆              ┆           ┆             ┆             ┆             │\n",
       "│ OT0000004849 ┆ LUREN -      ┆ Zona Sur     ┆ Cerrado   ┆ 2022-12-31  ┆ 2023-01-02  ┆ 2023-01-05  │\n",
       "│ 726          ┆ 380004       ┆              ┆           ┆             ┆             ┆             │\n",
       "│ OT0000004849 ┆ EL PINO -    ┆ Zona Centro  ┆ Cerrado   ┆ 2022-12-31  ┆ 2023-01-06  ┆ 2023-01-09  │\n",
       "│ 732          ┆ 191087       ┆              ┆           ┆             ┆             ┆             │\n",
       "│ SA0000004849 ┆ TUSILAGOS -  ┆ Zona Centro  ┆ Rechazado ┆ 2022-12-31  ┆ null        ┆ null        │\n",
       "│ 307          ┆ 191108       ┆              ┆           ┆             ┆             ┆             │\n",
       "└──────────────┴──────────────┴──────────────┴───────────┴─────────────┴─────────────┴─────────────┘"
      ]
     },
     "execution_count": 23,
     "metadata": {},
     "output_type": "execute_result"
    }
   ],
   "source": [
    "tickets.head()"
   ]
  },
  {
   "cell_type": "markdown",
   "metadata": {},
   "source": [
    "- Divida la columna [Ubicación], en las columnas [Agencia] y [AgenciaID], use como\n",
    "delimitador “ - “."
   ]
  },
  {
   "cell_type": "code",
   "execution_count": 24,
   "metadata": {},
   "outputs": [],
   "source": [
    "tickets=tickets.with_columns(\n",
    "    pl.col('Ubicacion')\n",
    "    .str.split_exact(' - ', 1)\n",
    "    .struct.rename_fields(['Agencia','AgenciaID'])\n",
    "    .alias('Agencia')\n",
    ").unnest('Agencia')"
   ]
  },
  {
   "cell_type": "markdown",
   "metadata": {},
   "source": [
    "- Asigne el tipo de dato entero a la columna AgenciaID."
   ]
  },
  {
   "cell_type": "code",
   "execution_count": 25,
   "metadata": {},
   "outputs": [],
   "source": [
    "tickets=tickets.cast({'AgenciaID': pl.Int64})"
   ]
  },
  {
   "cell_type": "code",
   "execution_count": 26,
   "metadata": {},
   "outputs": [
    {
     "data": {
      "text/html": [
       "<div><style>\n",
       ".dataframe > thead > tr,\n",
       ".dataframe > tbody > tr {\n",
       "  text-align: right;\n",
       "  white-space: pre-wrap;\n",
       "}\n",
       "</style>\n",
       "<small>shape: (5, 9)</small><table border=\"1\" class=\"dataframe\"><thead><tr><th>TicketID</th><th>Ubicacion</th><th>Service Desk</th><th>Estado</th><th>Fecha Creacion</th><th>Fecha Termino</th><th>Fecha Cierre</th><th>Agencia</th><th>AgenciaID</th></tr><tr><td>str</td><td>str</td><td>str</td><td>str</td><td>date</td><td>date</td><td>date</td><td>str</td><td>i64</td></tr></thead><tbody><tr><td>&quot;OT0000004849379&quot;</td><td>&quot;NAYLAMP - 191143&quot;</td><td>&quot;Zona Centro&quot;</td><td>&quot;Cerrado&quot;</td><td>2022-12-31</td><td>2023-01-25</td><td>2023-01-28</td><td>&quot;NAYLAMP&quot;</td><td>191143</td></tr><tr><td>&quot;OT0000004849382&quot;</td><td>&quot;LOS DAMASCOS - 193038&quot;</td><td>&quot;Zona Sur&quot;</td><td>&quot;Cerrado&quot;</td><td>2022-12-31</td><td>2023-01-04</td><td>2023-01-07</td><td>&quot;LOS DAMASCOS&quot;</td><td>193038</td></tr><tr><td>&quot;OT0000004849726&quot;</td><td>&quot;LUREN - 380004&quot;</td><td>&quot;Zona Sur&quot;</td><td>&quot;Cerrado&quot;</td><td>2022-12-31</td><td>2023-01-02</td><td>2023-01-05</td><td>&quot;LUREN&quot;</td><td>380004</td></tr><tr><td>&quot;OT0000004849732&quot;</td><td>&quot;EL PINO - 191087&quot;</td><td>&quot;Zona Centro&quot;</td><td>&quot;Cerrado&quot;</td><td>2022-12-31</td><td>2023-01-06</td><td>2023-01-09</td><td>&quot;EL PINO&quot;</td><td>191087</td></tr><tr><td>&quot;SA0000004849307&quot;</td><td>&quot;TUSILAGOS - 191108&quot;</td><td>&quot;Zona Centro&quot;</td><td>&quot;Rechazado&quot;</td><td>2022-12-31</td><td>null</td><td>null</td><td>&quot;TUSILAGOS&quot;</td><td>191108</td></tr></tbody></table></div>"
      ],
      "text/plain": [
       "shape: (5, 9)\n",
       "┌───────────┬───────────┬───────────┬───────────┬───┬───────────┬───────────┬───────────┬──────────┐\n",
       "│ TicketID  ┆ Ubicacion ┆ Service   ┆ Estado    ┆ … ┆ Fecha     ┆ Fecha     ┆ Agencia   ┆ AgenciaI │\n",
       "│ ---       ┆ ---       ┆ Desk      ┆ ---       ┆   ┆ Termino   ┆ Cierre    ┆ ---       ┆ D        │\n",
       "│ str       ┆ str       ┆ ---       ┆ str       ┆   ┆ ---       ┆ ---       ┆ str       ┆ ---      │\n",
       "│           ┆           ┆ str       ┆           ┆   ┆ date      ┆ date      ┆           ┆ i64      │\n",
       "╞═══════════╪═══════════╪═══════════╪═══════════╪═══╪═══════════╪═══════════╪═══════════╪══════════╡\n",
       "│ OT0000004 ┆ NAYLAMP - ┆ Zona      ┆ Cerrado   ┆ … ┆ 2023-01-2 ┆ 2023-01-2 ┆ NAYLAMP   ┆ 191143   │\n",
       "│ 849379    ┆ 191143    ┆ Centro    ┆           ┆   ┆ 5         ┆ 8         ┆           ┆          │\n",
       "│ OT0000004 ┆ LOS       ┆ Zona Sur  ┆ Cerrado   ┆ … ┆ 2023-01-0 ┆ 2023-01-0 ┆ LOS       ┆ 193038   │\n",
       "│ 849382    ┆ DAMASCOS  ┆           ┆           ┆   ┆ 4         ┆ 7         ┆ DAMASCOS  ┆          │\n",
       "│           ┆ - 193038  ┆           ┆           ┆   ┆           ┆           ┆           ┆          │\n",
       "│ OT0000004 ┆ LUREN -   ┆ Zona Sur  ┆ Cerrado   ┆ … ┆ 2023-01-0 ┆ 2023-01-0 ┆ LUREN     ┆ 380004   │\n",
       "│ 849726    ┆ 380004    ┆           ┆           ┆   ┆ 2         ┆ 5         ┆           ┆          │\n",
       "│ OT0000004 ┆ EL PINO - ┆ Zona      ┆ Cerrado   ┆ … ┆ 2023-01-0 ┆ 2023-01-0 ┆ EL PINO   ┆ 191087   │\n",
       "│ 849732    ┆ 191087    ┆ Centro    ┆           ┆   ┆ 6         ┆ 9         ┆           ┆          │\n",
       "│ SA0000004 ┆ TUSILAGOS ┆ Zona      ┆ Rechazado ┆ … ┆ null      ┆ null      ┆ TUSILAGOS ┆ 191108   │\n",
       "│ 849307    ┆ - 191108  ┆ Centro    ┆           ┆   ┆           ┆           ┆           ┆          │\n",
       "└───────────┴───────────┴───────────┴───────────┴───┴───────────┴───────────┴───────────┴──────────┘"
      ]
     },
     "execution_count": 26,
     "metadata": {},
     "output_type": "execute_result"
    }
   ],
   "source": [
    "tickets.head()"
   ]
  },
  {
   "cell_type": "markdown",
   "metadata": {},
   "source": [
    "- Cree la columna [Fecha Real Fin] basado en la siguiente regla:\n",
    "    SI [Fecha Termino] es nulo ENTONCES [Fecha Cierre]\n",
    "    SINO [Fecha Termino]"
   ]
  },
  {
   "cell_type": "code",
   "execution_count": 27,
   "metadata": {},
   "outputs": [],
   "source": [
    "tickets=tickets.with_columns(\n",
    "    pl.when(pl.col('Fecha Termino').is_null())\n",
    "    .then(pl.col('Fecha Cierre'))\n",
    "    .otherwise(pl.col('Fecha Termino'))\n",
    "    .alias('Fecha Real Fin')\n",
    ")"
   ]
  },
  {
   "cell_type": "markdown",
   "metadata": {},
   "source": [
    "- Cree la columna [Dias Cierre], la cual es la diferencia en días entre la [Fecha Real\n",
    "Fin] y [Fecha Creacion]."
   ]
  },
  {
   "cell_type": "code",
   "execution_count": 28,
   "metadata": {},
   "outputs": [],
   "source": [
    "tickets=tickets.with_columns(\n",
    "    (pl.col('Fecha Real Fin')-pl.col('Fecha Creacion'))\n",
    "    .dt.total_days()\n",
    "    .alias('Dias Cierre')\n",
    ")"
   ]
  },
  {
   "cell_type": "markdown",
   "metadata": {},
   "source": [
    "- Cree la columna [Grupo Dias] basado en la siguiente regla:\n",
    "SI [Dias Cierre] es nulo ENTONCES Nulo\n",
    "SI [Dias Cierre] <= 3 ENTONCES “0 a 3 días”\n",
    "SI [Dias Cierre] <= 7 ENTONCES “4 a 7 días”\n",
    "SI [Dias Cierre] <= 15 ENTONCES “8 a 15 días”\n",
    "SI [Dias Cierre] > 15 ENTONCES “+15 días”"
   ]
  },
  {
   "cell_type": "code",
   "execution_count": 29,
   "metadata": {},
   "outputs": [],
   "source": [
    "tickets=tickets.with_columns(\n",
    "    pl.when(pl.col('Dias Cierre').is_null()).then(None)\n",
    "    .when(pl.col('Dias Cierre')<3).then(pl.lit('0 a 3 dias'))\n",
    "    .when(pl.col('Dias Cierre')<7).then(pl.lit('3 a 7 dias'))\n",
    "    .when(pl.col('Dias Cierre')<15).then(pl.lit('7 a 15 dias'))\n",
    "    .otherwise(pl.lit('+ de 15 dias'))\n",
    "    .alias('Grupo Dias')\n",
    ")"
   ]
  },
  {
   "cell_type": "code",
   "execution_count": 34,
   "metadata": {},
   "outputs": [
    {
     "data": {
      "text/plain": [
       "['TicketID',\n",
       " 'Ubicacion',\n",
       " 'Service Desk',\n",
       " 'Estado',\n",
       " 'Fecha Creacion',\n",
       " 'Fecha Termino',\n",
       " 'Fecha Cierre',\n",
       " 'Agencia',\n",
       " 'AgenciaID',\n",
       " 'Fecha Real Fin',\n",
       " 'Dias Cierre',\n",
       " 'Grupo Dias']"
      ]
     },
     "execution_count": 34,
     "metadata": {},
     "output_type": "execute_result"
    }
   ],
   "source": [
    "tickets.columns"
   ]
  },
  {
   "cell_type": "code",
   "execution_count": 30,
   "metadata": {},
   "outputs": [
    {
     "data": {
      "text/html": [
       "<div><style>\n",
       ".dataframe > thead > tr,\n",
       ".dataframe > tbody > tr {\n",
       "  text-align: right;\n",
       "  white-space: pre-wrap;\n",
       "}\n",
       "</style>\n",
       "<small>shape: (5, 12)</small><table border=\"1\" class=\"dataframe\"><thead><tr><th>TicketID</th><th>Ubicacion</th><th>Service Desk</th><th>Estado</th><th>Fecha Creacion</th><th>Fecha Termino</th><th>Fecha Cierre</th><th>Agencia</th><th>AgenciaID</th><th>Fecha Real Fin</th><th>Dias Cierre</th><th>Grupo Dias</th></tr><tr><td>str</td><td>str</td><td>str</td><td>str</td><td>date</td><td>date</td><td>date</td><td>str</td><td>i64</td><td>date</td><td>i64</td><td>str</td></tr></thead><tbody><tr><td>&quot;OT0000004849379&quot;</td><td>&quot;NAYLAMP - 191143&quot;</td><td>&quot;Zona Centro&quot;</td><td>&quot;Cerrado&quot;</td><td>2022-12-31</td><td>2023-01-25</td><td>2023-01-28</td><td>&quot;NAYLAMP&quot;</td><td>191143</td><td>2023-01-25</td><td>25</td><td>&quot;+ de 15 dias&quot;</td></tr><tr><td>&quot;OT0000004849382&quot;</td><td>&quot;LOS DAMASCOS - 193038&quot;</td><td>&quot;Zona Sur&quot;</td><td>&quot;Cerrado&quot;</td><td>2022-12-31</td><td>2023-01-04</td><td>2023-01-07</td><td>&quot;LOS DAMASCOS&quot;</td><td>193038</td><td>2023-01-04</td><td>4</td><td>&quot;3 a 7 dias&quot;</td></tr><tr><td>&quot;OT0000004849726&quot;</td><td>&quot;LUREN - 380004&quot;</td><td>&quot;Zona Sur&quot;</td><td>&quot;Cerrado&quot;</td><td>2022-12-31</td><td>2023-01-02</td><td>2023-01-05</td><td>&quot;LUREN&quot;</td><td>380004</td><td>2023-01-02</td><td>2</td><td>&quot;0 a 3 dias&quot;</td></tr><tr><td>&quot;OT0000004849732&quot;</td><td>&quot;EL PINO - 191087&quot;</td><td>&quot;Zona Centro&quot;</td><td>&quot;Cerrado&quot;</td><td>2022-12-31</td><td>2023-01-06</td><td>2023-01-09</td><td>&quot;EL PINO&quot;</td><td>191087</td><td>2023-01-06</td><td>6</td><td>&quot;3 a 7 dias&quot;</td></tr><tr><td>&quot;SA0000004849307&quot;</td><td>&quot;TUSILAGOS - 191108&quot;</td><td>&quot;Zona Centro&quot;</td><td>&quot;Rechazado&quot;</td><td>2022-12-31</td><td>null</td><td>null</td><td>&quot;TUSILAGOS&quot;</td><td>191108</td><td>null</td><td>null</td><td>null</td></tr></tbody></table></div>"
      ],
      "text/plain": [
       "shape: (5, 12)\n",
       "┌───────────┬───────────┬───────────┬───────────┬───┬───────────┬───────────┬───────────┬──────────┐\n",
       "│ TicketID  ┆ Ubicacion ┆ Service   ┆ Estado    ┆ … ┆ AgenciaID ┆ Fecha     ┆ Dias      ┆ Grupo    │\n",
       "│ ---       ┆ ---       ┆ Desk      ┆ ---       ┆   ┆ ---       ┆ Real Fin  ┆ Cierre    ┆ Dias     │\n",
       "│ str       ┆ str       ┆ ---       ┆ str       ┆   ┆ i64       ┆ ---       ┆ ---       ┆ ---      │\n",
       "│           ┆           ┆ str       ┆           ┆   ┆           ┆ date      ┆ i64       ┆ str      │\n",
       "╞═══════════╪═══════════╪═══════════╪═══════════╪═══╪═══════════╪═══════════╪═══════════╪══════════╡\n",
       "│ OT0000004 ┆ NAYLAMP - ┆ Zona      ┆ Cerrado   ┆ … ┆ 191143    ┆ 2023-01-2 ┆ 25        ┆ + de 15  │\n",
       "│ 849379    ┆ 191143    ┆ Centro    ┆           ┆   ┆           ┆ 5         ┆           ┆ dias     │\n",
       "│ OT0000004 ┆ LOS       ┆ Zona Sur  ┆ Cerrado   ┆ … ┆ 193038    ┆ 2023-01-0 ┆ 4         ┆ 3 a 7    │\n",
       "│ 849382    ┆ DAMASCOS  ┆           ┆           ┆   ┆           ┆ 4         ┆           ┆ dias     │\n",
       "│           ┆ - 193038  ┆           ┆           ┆   ┆           ┆           ┆           ┆          │\n",
       "│ OT0000004 ┆ LUREN -   ┆ Zona Sur  ┆ Cerrado   ┆ … ┆ 380004    ┆ 2023-01-0 ┆ 2         ┆ 0 a 3    │\n",
       "│ 849726    ┆ 380004    ┆           ┆           ┆   ┆           ┆ 2         ┆           ┆ dias     │\n",
       "│ OT0000004 ┆ EL PINO - ┆ Zona      ┆ Cerrado   ┆ … ┆ 191087    ┆ 2023-01-0 ┆ 6         ┆ 3 a 7    │\n",
       "│ 849732    ┆ 191087    ┆ Centro    ┆           ┆   ┆           ┆ 6         ┆           ┆ dias     │\n",
       "│ SA0000004 ┆ TUSILAGOS ┆ Zona      ┆ Rechazado ┆ … ┆ 191108    ┆ null      ┆ null      ┆ null     │\n",
       "│ 849307    ┆ - 191108  ┆ Centro    ┆           ┆   ┆           ┆           ┆           ┆          │\n",
       "└───────────┴───────────┴───────────┴───────────┴───┴───────────┴───────────┴───────────┴──────────┘"
      ]
     },
     "execution_count": 30,
     "metadata": {},
     "output_type": "execute_result"
    }
   ],
   "source": [
    "tickets.head()"
   ]
  },
  {
   "cell_type": "code",
   "execution_count": 31,
   "metadata": {},
   "outputs": [
    {
     "data": {
      "text/plain": [
       "<xlsxwriter.workbook.Workbook at 0x2c3d623ba50>"
      ]
     },
     "execution_count": 31,
     "metadata": {},
     "output_type": "execute_result"
    }
   ],
   "source": [
    "## Exporto para usarlo despues en otra hoja de trabajo donde combinare la base Tickets y Atenciones con Joins\n",
    "tickets.write_excel(\n",
    "    workbook='Tickets.xlsx',\n",
    "    worksheet='Hoja1'\n",
    ")"
   ]
  }
 ],
 "metadata": {
  "kernelspec": {
   "display_name": "vTarea1",
   "language": "python",
   "name": "python3"
  },
  "language_info": {
   "codemirror_mode": {
    "name": "ipython",
    "version": 3
   },
   "file_extension": ".py",
   "mimetype": "text/x-python",
   "name": "python",
   "nbconvert_exporter": "python",
   "pygments_lexer": "ipython3",
   "version": "3.11.7"
  }
 },
 "nbformat": 4,
 "nbformat_minor": 2
}
