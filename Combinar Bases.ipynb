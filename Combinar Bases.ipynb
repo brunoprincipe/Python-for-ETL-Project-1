{
 "cells": [
  {
   "cell_type": "code",
   "execution_count": 1,
   "metadata": {},
   "outputs": [],
   "source": [
    "import polars as pl\n",
    "from polars import Config"
   ]
  },
  {
   "cell_type": "code",
   "execution_count": 2,
   "metadata": {},
   "outputs": [
    {
     "data": {
      "text/plain": [
       "polars.config.Config"
      ]
     },
     "execution_count": 2,
     "metadata": {},
     "output_type": "execute_result"
    }
   ],
   "source": [
    "Config.set_fmt_str_lengths(100)"
   ]
  },
  {
   "cell_type": "markdown",
   "metadata": {},
   "source": [
    "# ACLARACIÓN IMPORTANTE: Trabajé los dataframes en archivos separados, asi que para combinarlos los estoy importando."
   ]
  },
  {
   "cell_type": "code",
   "execution_count": 29,
   "metadata": {},
   "outputs": [],
   "source": [
    "#Importando Atenciones, leyó bien los tipos de datos asi que lo dejaré así\n",
    "Atenciones=pl.read_excel(\n",
    "    source=\"./Atenciones/Atenciones.xlsx\",\n",
    "    sheet_name=\"Hoja1\",\n",
    "    engine=\"xlsx2csv\",\n",
    ")"
   ]
  },
  {
   "cell_type": "code",
   "execution_count": 30,
   "metadata": {},
   "outputs": [],
   "source": [
    "#Importando Tickets, leyó mal los tipos de datos en las fechas\n",
    "Tickets=pl.read_excel(\n",
    "    source=\"./Tickets/Tickets.xlsx\",\n",
    "    sheet_name=\"Hoja1\",\n",
    "    engine=\"xlsx2csv\",\n",
    "    \n",
    ")"
   ]
  },
  {
   "cell_type": "code",
   "execution_count": 27,
   "metadata": {},
   "outputs": [],
   "source": [
    "#Corrigiendo el tipo de datos en las columnas fechas\n",
    "Tickets=Tickets.select(\n",
    "    'TicketID',\n",
    "    'Ubicacion',\n",
    "    'Service Desk',\n",
    "    'Estado',\n",
    "    pl.col(\"Fecha Creacion\").cast(pl.Date),\n",
    "    pl.col(\"Fecha Termino\").cast(pl.Date),\n",
    "    pl.col(\"Fecha Cierre\").cast(pl.Date),\n",
    "    'Agencia',\n",
    "    'AgenciaID',\n",
    "    pl.col(\"Fecha Real Fin\").cast(pl.Date),\n",
    "    'Dias Cierre',\n",
    "    'Grupo Dias'\n",
    "\n",
    ")"
   ]
  },
  {
   "cell_type": "markdown",
   "metadata": {},
   "source": [
    "# Combinar Base Ticket y Atenciones"
   ]
  },
  {
   "cell_type": "code",
   "execution_count": 31,
   "metadata": {},
   "outputs": [
    {
     "data": {
      "text/plain": [
       "(22717, 15)"
      ]
     },
     "execution_count": 31,
     "metadata": {},
     "output_type": "execute_result"
    }
   ],
   "source": [
    "Tickets.join(\n",
    "    Atenciones,\n",
    "    on=\"TicketID\",\n",
    "    how=\"inner\"\n",
    ").shape"
   ]
  },
  {
   "cell_type": "code",
   "execution_count": 32,
   "metadata": {},
   "outputs": [],
   "source": [
    "#Uniendo los DF con join\n",
    "Resultado=Tickets.join(\n",
    "    Atenciones,\n",
    "    on=\"TicketID\",\n",
    "    how=\"inner\"\n",
    ").select(\n",
    "    'TicketID',\n",
    "    'AgenciaID',\n",
    "    'Agencia',\n",
    "    'Service Desk',\n",
    "    'Estado',\n",
    "    'Fecha Creacion',\n",
    "    'Fecha Cierre',\n",
    "    \"Grupo Dias\",\n",
    "    pl.col(\"Tipo de Ticket\").alias(\"Tipo Ticket\"),\n",
    "    pl.col(\"Costo Atencion\").alias(\"Costo\"),\n",
    ")"
   ]
  },
  {
   "cell_type": "code",
   "execution_count": 33,
   "metadata": {},
   "outputs": [
    {
     "data": {
      "text/html": [
       "<div><style>\n",
       ".dataframe > thead > tr,\n",
       ".dataframe > tbody > tr {\n",
       "  text-align: right;\n",
       "  white-space: pre-wrap;\n",
       "}\n",
       "</style>\n",
       "<small>shape: (5, 10)</small><table border=\"1\" class=\"dataframe\"><thead><tr><th>TicketID</th><th>AgenciaID</th><th>Agencia</th><th>Service Desk</th><th>Estado</th><th>Fecha Creacion</th><th>Fecha Cierre</th><th>Grupo Dias</th><th>Tipo Ticket</th><th>Costo</th></tr><tr><td>str</td><td>i64</td><td>str</td><td>str</td><td>str</td><td>str</td><td>str</td><td>str</td><td>str</td><td>f64</td></tr></thead><tbody><tr><td>&quot;WO0000005584689&quot;</td><td>191076</td><td>&quot;LAS MALVINAS&quot;</td><td>&quot;Zona Centro&quot;</td><td>&quot;Cerrado&quot;</td><td>&quot;2023-09-08&quot;</td><td>&quot;2023-09-20&quot;</td><td>&quot;7 a 15 dias&quot;</td><td>&quot;Variable&quot;</td><td>null</td></tr><tr><td>&quot;WO0000004544943&quot;</td><td>191053</td><td>&quot;URB SAN FELIPE COMAS&quot;</td><td>&quot;Zona Centro&quot;</td><td>&quot;Rechazado&quot;</td><td>&quot;2022-10-18&quot;</td><td>null</td><td>&quot;0 a 3 dias&quot;</td><td>&quot;Rechazado&quot;</td><td>100.0</td></tr><tr><td>&quot;WO0000004545246&quot;</td><td>191035</td><td>&quot;PUENTE PIEDRA&quot;</td><td>&quot;Zona Centro&quot;</td><td>&quot;Rechazado&quot;</td><td>&quot;2022-10-18&quot;</td><td>null</td><td>&quot;0 a 3 dias&quot;</td><td>&quot;Rechazado&quot;</td><td>100.0</td></tr><tr><td>&quot;WO0000004559125&quot;</td><td>191087</td><td>&quot;EL PINO&quot;</td><td>&quot;Zona Centro&quot;</td><td>&quot;Rechazado&quot;</td><td>&quot;2022-10-24&quot;</td><td>null</td><td>&quot;0 a 3 dias&quot;</td><td>&quot;Rechazado&quot;</td><td>100.0</td></tr><tr><td>&quot;WO0000004707477&quot;</td><td>191044</td><td>&quot;LAS ALONDRAS&quot;</td><td>&quot;Zona Centro&quot;</td><td>&quot;Rechazado&quot;</td><td>&quot;2022-11-08&quot;</td><td>null</td><td>null</td><td>&quot;Rechazado&quot;</td><td>100.0</td></tr></tbody></table></div>"
      ],
      "text/plain": [
       "shape: (5, 10)\n",
       "┌──────────────┬───────────┬──────────┬─────────┬───┬──────────────┬────────┬──────────────┬───────┐\n",
       "│ TicketID     ┆ AgenciaID ┆ Agencia  ┆ Service ┆ … ┆ Fecha Cierre ┆ Grupo  ┆ Tipo Ticket  ┆ Costo │\n",
       "│ ---          ┆ ---       ┆ ---      ┆ Desk    ┆   ┆ ---          ┆ Dias   ┆ ---          ┆ ---   │\n",
       "│ str          ┆ i64       ┆ str      ┆ ---     ┆   ┆ str          ┆ ---    ┆ str          ┆ f64   │\n",
       "│              ┆           ┆          ┆ str     ┆   ┆              ┆ str    ┆              ┆       │\n",
       "╞══════════════╪═══════════╪══════════╪═════════╪═══╪══════════════╪════════╪══════════════╪═══════╡\n",
       "│ WO0000005584 ┆ 191076    ┆ LAS      ┆ Zona    ┆ … ┆ 2023-09-20   ┆ 7 a 15 ┆ Variable     ┆ null  │\n",
       "│ 689          ┆           ┆ MALVINAS ┆ Centro  ┆   ┆              ┆ dias   ┆              ┆       │\n",
       "│ WO0000004544 ┆ 191053    ┆ URB SAN  ┆ Zona    ┆ … ┆ null         ┆ 0 a 3  ┆ Rechazado    ┆ 100.0 │\n",
       "│ 943          ┆           ┆ FELIPE   ┆ Centro  ┆   ┆              ┆ dias   ┆              ┆       │\n",
       "│              ┆           ┆ COMAS    ┆         ┆   ┆              ┆        ┆              ┆       │\n",
       "│ WO0000004545 ┆ 191035    ┆ PUENTE   ┆ Zona    ┆ … ┆ null         ┆ 0 a 3  ┆ Rechazado    ┆ 100.0 │\n",
       "│ 246          ┆           ┆ PIEDRA   ┆ Centro  ┆   ┆              ┆ dias   ┆              ┆       │\n",
       "│ WO0000004559 ┆ 191087    ┆ EL PINO  ┆ Zona    ┆ … ┆ null         ┆ 0 a 3  ┆ Rechazado    ┆ 100.0 │\n",
       "│ 125          ┆           ┆          ┆ Centro  ┆   ┆              ┆ dias   ┆              ┆       │\n",
       "│ WO0000004707 ┆ 191044    ┆ LAS      ┆ Zona    ┆ … ┆ null         ┆ null   ┆ Rechazado    ┆ 100.0 │\n",
       "│ 477          ┆           ┆ ALONDRAS ┆ Centro  ┆   ┆              ┆        ┆              ┆       │\n",
       "└──────────────┴───────────┴──────────┴─────────┴───┴──────────────┴────────┴──────────────┴───────┘"
      ]
     },
     "execution_count": 33,
     "metadata": {},
     "output_type": "execute_result"
    }
   ],
   "source": [
    "Resultado.head()"
   ]
  },
  {
   "cell_type": "markdown",
   "metadata": {},
   "source": [
    "### Exportando a un excel"
   ]
  },
  {
   "cell_type": "code",
   "execution_count": 34,
   "metadata": {},
   "outputs": [
    {
     "data": {
      "text/plain": [
       "<xlsxwriter.workbook.Workbook at 0x150831ed750>"
      ]
     },
     "execution_count": 34,
     "metadata": {},
     "output_type": "execute_result"
    }
   ],
   "source": [
    "Resultado.write_excel(\n",
    "    workbook=\"Consolidado.xlsx\",\n",
    "    worksheet=\"Atenciones\",\n",
    "    table_style=\"Table Style Light 16\",\n",
    "    dtype_formats={pl.Date:\"dd/mm/yyyy\"},\n",
    "    float_precision=2,\n",
    "    autofit=True\n",
    ")"
   ]
  }
 ],
 "metadata": {
  "kernelspec": {
   "display_name": "vTarea1",
   "language": "python",
   "name": "python3"
  },
  "language_info": {
   "codemirror_mode": {
    "name": "ipython",
    "version": 3
   },
   "file_extension": ".py",
   "mimetype": "text/x-python",
   "name": "python",
   "nbconvert_exporter": "python",
   "pygments_lexer": "ipython3",
   "version": "3.11.7"
  }
 },
 "nbformat": 4,
 "nbformat_minor": 2
}
