{
 "cells": [
  {
   "cell_type": "code",
   "execution_count": 1,
   "metadata": {},
   "outputs": [
    {
     "data": {
      "text/plain": [
       "polars.config.Config"
      ]
     },
     "execution_count": 1,
     "metadata": {},
     "output_type": "execute_result"
    }
   ],
   "source": [
    "import polars as pl\n",
    "from polars import Config\n",
    "\n",
    "Config.set_fmt_str_lengths(100)"
   ]
  },
  {
   "cell_type": "code",
   "execution_count": 3,
   "metadata": {},
   "outputs": [
    {
     "data": {
      "text/html": [
       "<div><style>\n",
       ".dataframe > thead > tr,\n",
       ".dataframe > tbody > tr {\n",
       "  text-align: right;\n",
       "  white-space: pre-wrap;\n",
       "}\n",
       "</style>\n",
       "<small>shape: (10, 19)</small><table border=\"1\" class=\"dataframe\"><thead><tr><th>Numero Ticket</th><th>Semana de Visita</th><th>Fecha programada</th><th>Fecha Creacion</th><th>Fecha Cierre</th><th>Estado</th><th>Agencia</th><th>Descripción del servicio</th><th>Tipo de Ticket</th><th>Fecha Aprobacion de Cotizacion</th><th>Precio Venta con IGV (con IGV)</th><th>Monto Registrado en Planilla</th><th>Fecha de Registro en Planilla</th><th>Número de SOLPED</th><th>Proveedor</th><th>Costo Atencion</th><th>Unidades</th><th>Número de OS / OC</th><th>Codigo de Conformidad</th></tr><tr><td>str</td><td>str</td><td>str</td><td>str</td><td>str</td><td>str</td><td>str</td><td>str</td><td>str</td><td>str</td><td>str</td><td>str</td><td>str</td><td>str</td><td>str</td><td>str</td><td>str</td><td>str</td><td>str</td></tr></thead><tbody><tr><td>&quot;WO0000005584689&quot;</td><td>null</td><td>null</td><td>&quot;08/09/2023&quot;</td><td>&quot;17/08/2023&quot;</td><td>&quot;Cerrado&quot;</td><td>&quot;LAS MALVINAS - 191076&quot;</td><td>&quot;Usuario Solicitante: U16620 - POOL EDGARD TORRES CORONEL\n",
       "Mi silla Giratoria GDO tiene juego en su b…</td><td>&quot;Variable&quot;</td><td>&quot;44095&quot;</td><td>&quot;10/03/1900 19:12:00&quot;</td><td>null</td><td>null</td><td>null</td><td>&quot;MR EXPRESS&quot;</td><td>null</td><td>null</td><td>null</td><td>null</td></tr><tr><td>&quot;WO0000004544943&quot;</td><td>null</td><td>null</td><td>&quot;18/10/2022&quot;</td><td>null</td><td>&quot;Rechazado&quot;</td><td>null</td><td>null</td><td>&quot;Rechazado&quot;</td><td>null</td><td>null</td><td>null</td><td>null</td><td>null</td><td>null</td><td>&quot;100&quot;</td><td>null</td><td>&quot;03678-112022&quot;</td><td>&quot;111903930&quot;</td></tr><tr><td>&quot;WO0000004545246&quot;</td><td>null</td><td>null</td><td>&quot;18/10/2022&quot;</td><td>null</td><td>&quot;Rechazado&quot;</td><td>null</td><td>null</td><td>&quot;Rechazado&quot;</td><td>null</td><td>null</td><td>null</td><td>null</td><td>null</td><td>null</td><td>&quot;100&quot;</td><td>null</td><td>&quot;02321-112022&quot;</td><td>&quot;111904103&quot;</td></tr><tr><td>&quot;WO0000004559125&quot;</td><td>null</td><td>null</td><td>&quot;24/10/2022&quot;</td><td>null</td><td>&quot;Rechazado&quot;</td><td>null</td><td>null</td><td>&quot;Rechazado&quot;</td><td>null</td><td>null</td><td>null</td><td>null</td><td>null</td><td>null</td><td>&quot;100&quot;</td><td>null</td><td>null</td><td>&quot;Pendiente de OS HABOM&quot;</td></tr><tr><td>&quot;WO0000004707477&quot;</td><td>null</td><td>null</td><td>&quot;08/11/2022&quot;</td><td>null</td><td>&quot;Rechazado&quot;</td><td>null</td><td>null</td><td>&quot;Rechazado&quot;</td><td>null</td><td>null</td><td>null</td><td>null</td><td>null</td><td>null</td><td>&quot;100&quot;</td><td>null</td><td>&quot;02918-092022&quot;</td><td>&quot;111900539&quot;</td></tr><tr><td>&quot;WO0000004759976&quot;</td><td>null</td><td>null</td><td>&quot;26/11/2022&quot;</td><td>null</td><td>&quot;Rechazado&quot;</td><td>null</td><td>null</td><td>&quot;Rechazado&quot;</td><td>null</td><td>null</td><td>null</td><td>null</td><td>null</td><td>null</td><td>&quot;100&quot;</td><td>null</td><td>&quot;03625-092022&quot;</td><td>&quot;101904193&quot;</td></tr><tr><td>&quot;WO0000004795876&quot;</td><td>null</td><td>null</td><td>&quot;09/12/2022&quot;</td><td>null</td><td>&quot;Rechazado&quot;</td><td>null</td><td>null</td><td>&quot;Rechazado&quot;</td><td>null</td><td>null</td><td>null</td><td>null</td><td>null</td><td>null</td><td>&quot;100&quot;</td><td>null</td><td>&quot;04671-102022&quot;</td><td>&quot;111902301&quot;</td></tr><tr><td>&quot;WO0000004825300&quot;</td><td>null</td><td>null</td><td>&quot;19/12/2022&quot;</td><td>null</td><td>&quot;Rechazado&quot;</td><td>null</td><td>null</td><td>&quot;Rechazado&quot;</td><td>null</td><td>null</td><td>null</td><td>null</td><td>null</td><td>null</td><td>&quot;100&quot;</td><td>null</td><td>&quot;01136-102022&quot;</td><td>&quot;111901948&quot;</td></tr><tr><td>&quot;WO0000004853680&quot;</td><td>&quot;S2&quot;</td><td>&quot;09/01/2023&quot;</td><td>&quot;02/01/2023&quot;</td><td>&quot;08/01/2023&quot;</td><td>&quot;Cerrado&quot;</td><td>&quot;PLAZA CIVICA VENTANILLA - 192026&quot;</td><td>&quot;Usuario Solicitante: S65545 - JESUS ALBERTO CORONADO PABLO\n",
       "SOLICITO REPARAR LA BUTACA QUE SE ENCUEN…</td><td>&quot;Flat&quot;</td><td>null</td><td>null</td><td>null</td><td>null</td><td>null</td><td>&quot;ACCENTURE&quot;</td><td>&quot;100&quot;</td><td>null</td><td>&quot;00521-012023&quot;</td><td>null</td></tr><tr><td>&quot;WO0000004925389&quot;</td><td>&quot;S4&quot;</td><td>&quot;28/01/2023&quot;</td><td>&quot;24/01/2023&quot;</td><td>&quot;10/02/2023&quot;</td><td>&quot;Cerrado&quot;</td><td>&quot;DEL AIRE - 193064&quot;</td><td>&quot;Usuario Solicitante: S02349 - MARTHIN WILLIANS HERRERA MORALES\n",
       "el baño de discapacitado, al bajar e…</td><td>&quot;Flat&quot;</td><td>null</td><td>null</td><td>null</td><td>null</td><td>null</td><td>&quot;ACCENTURE&quot;</td><td>&quot;100&quot;</td><td>null</td><td>&quot;05991-012023&quot;</td><td>null</td></tr></tbody></table></div>"
      ],
      "text/plain": [
       "shape: (10, 19)\n",
       "┌───────────┬───────────┬───────────┬───────────┬───┬───────────┬──────────┬───────────┬───────────┐\n",
       "│ Numero    ┆ Semana de ┆ Fecha pro ┆ Fecha     ┆ … ┆ Costo     ┆ Unidades ┆ Número de ┆ Codigo de │\n",
       "│ Ticket    ┆ Visita    ┆ gramada   ┆ Creacion  ┆   ┆ Atencion  ┆ ---      ┆ OS / OC   ┆ Conformid │\n",
       "│ ---       ┆ ---       ┆ ---       ┆ ---       ┆   ┆ ---       ┆ str      ┆ ---       ┆ ad        │\n",
       "│ str       ┆ str       ┆ str       ┆ str       ┆   ┆ str       ┆          ┆ str       ┆ ---       │\n",
       "│           ┆           ┆           ┆           ┆   ┆           ┆          ┆           ┆ str       │\n",
       "╞═══════════╪═══════════╪═══════════╪═══════════╪═══╪═══════════╪══════════╪═══════════╪═══════════╡\n",
       "│ WO0000005 ┆ null      ┆ null      ┆ 08/09/202 ┆ … ┆ null      ┆ null     ┆ null      ┆ null      │\n",
       "│ 584689    ┆           ┆           ┆ 3         ┆   ┆           ┆          ┆           ┆           │\n",
       "│ WO0000004 ┆ null      ┆ null      ┆ 18/10/202 ┆ … ┆ 100       ┆ null     ┆ 03678-112 ┆ 111903930 │\n",
       "│ 544943    ┆           ┆           ┆ 2         ┆   ┆           ┆          ┆ 022       ┆           │\n",
       "│ WO0000004 ┆ null      ┆ null      ┆ 18/10/202 ┆ … ┆ 100       ┆ null     ┆ 02321-112 ┆ 111904103 │\n",
       "│ 545246    ┆           ┆           ┆ 2         ┆   ┆           ┆          ┆ 022       ┆           │\n",
       "│ WO0000004 ┆ null      ┆ null      ┆ 24/10/202 ┆ … ┆ 100       ┆ null     ┆ null      ┆ Pendiente │\n",
       "│ 559125    ┆           ┆           ┆ 2         ┆   ┆           ┆          ┆           ┆ de OS     │\n",
       "│           ┆           ┆           ┆           ┆   ┆           ┆          ┆           ┆ HABOM     │\n",
       "│ WO0000004 ┆ null      ┆ null      ┆ 08/11/202 ┆ … ┆ 100       ┆ null     ┆ 02918-092 ┆ 111900539 │\n",
       "│ 707477    ┆           ┆           ┆ 2         ┆   ┆           ┆          ┆ 022       ┆           │\n",
       "│ WO0000004 ┆ null      ┆ null      ┆ 26/11/202 ┆ … ┆ 100       ┆ null     ┆ 03625-092 ┆ 101904193 │\n",
       "│ 759976    ┆           ┆           ┆ 2         ┆   ┆           ┆          ┆ 022       ┆           │\n",
       "│ WO0000004 ┆ null      ┆ null      ┆ 09/12/202 ┆ … ┆ 100       ┆ null     ┆ 04671-102 ┆ 111902301 │\n",
       "│ 795876    ┆           ┆           ┆ 2         ┆   ┆           ┆          ┆ 022       ┆           │\n",
       "│ WO0000004 ┆ null      ┆ null      ┆ 19/12/202 ┆ … ┆ 100       ┆ null     ┆ 01136-102 ┆ 111901948 │\n",
       "│ 825300    ┆           ┆           ┆ 2         ┆   ┆           ┆          ┆ 022       ┆           │\n",
       "│ WO0000004 ┆ S2        ┆ 09/01/202 ┆ 02/01/202 ┆ … ┆ 100       ┆ null     ┆ 00521-012 ┆ null      │\n",
       "│ 853680    ┆           ┆ 3         ┆ 3         ┆   ┆           ┆          ┆ 023       ┆           │\n",
       "│ WO0000004 ┆ S4        ┆ 28/01/202 ┆ 24/01/202 ┆ … ┆ 100       ┆ null     ┆ 05991-012 ┆ null      │\n",
       "│ 925389    ┆           ┆ 3         ┆ 3         ┆   ┆           ┆          ┆ 023       ┆           │\n",
       "└───────────┴───────────┴───────────┴───────────┴───┴───────────┴──────────┴───────────┴───────────┘"
      ]
     },
     "execution_count": 3,
     "metadata": {},
     "output_type": "execute_result"
    }
   ],
   "source": [
    "pl.read_excel(\n",
    "    source=\"Atenciones Centro.xlsx\",\n",
    "    sheet_name=\"Hoja1\",\n",
    "    engine=\"xlsx2csv\",\n",
    "    read_csv_options={\n",
    "        \"infer_schema_length\":0 #No infiere el tipo de datos de cada campo\n",
    "    }\n",
    ").head(10)"
   ]
  },
  {
   "cell_type": "code",
   "execution_count": 8,
   "metadata": {},
   "outputs": [
    {
     "data": {
      "text/html": [
       "<div><style>\n",
       ".dataframe > thead > tr,\n",
       ".dataframe > tbody > tr {\n",
       "  text-align: right;\n",
       "  white-space: pre-wrap;\n",
       "}\n",
       "</style>\n",
       "<small>shape: (10, 4)</small><table border=\"1\" class=\"dataframe\"><thead><tr><th>Numero Ticket</th><th>Fecha Creacion</th><th>Estado</th><th>Tipo de Ticket</th></tr><tr><td>str</td><td>date</td><td>str</td><td>str</td></tr></thead><tbody><tr><td>&quot;WO0000005584689&quot;</td><td>2023-09-08</td><td>&quot;Cerrado&quot;</td><td>&quot;Variable&quot;</td></tr><tr><td>&quot;WO0000004544943&quot;</td><td>2022-10-18</td><td>&quot;Rechazado&quot;</td><td>&quot;Rechazado&quot;</td></tr><tr><td>&quot;WO0000004545246&quot;</td><td>2022-10-18</td><td>&quot;Rechazado&quot;</td><td>&quot;Rechazado&quot;</td></tr><tr><td>&quot;WO0000004559125&quot;</td><td>2022-10-24</td><td>&quot;Rechazado&quot;</td><td>&quot;Rechazado&quot;</td></tr><tr><td>&quot;WO0000004707477&quot;</td><td>2022-11-08</td><td>&quot;Rechazado&quot;</td><td>&quot;Rechazado&quot;</td></tr><tr><td>&quot;WO0000004759976&quot;</td><td>2022-11-26</td><td>&quot;Rechazado&quot;</td><td>&quot;Rechazado&quot;</td></tr><tr><td>&quot;WO0000004795876&quot;</td><td>2022-12-09</td><td>&quot;Rechazado&quot;</td><td>&quot;Rechazado&quot;</td></tr><tr><td>&quot;WO0000004825300&quot;</td><td>2022-12-19</td><td>&quot;Rechazado&quot;</td><td>&quot;Rechazado&quot;</td></tr><tr><td>&quot;WO0000004853680&quot;</td><td>2023-01-02</td><td>&quot;Cerrado&quot;</td><td>&quot;Flat&quot;</td></tr><tr><td>&quot;WO0000004925389&quot;</td><td>2023-01-24</td><td>&quot;Cerrado&quot;</td><td>&quot;Flat&quot;</td></tr></tbody></table></div>"
      ],
      "text/plain": [
       "shape: (10, 4)\n",
       "┌─────────────────┬────────────────┬───────────┬────────────────┐\n",
       "│ Numero Ticket   ┆ Fecha Creacion ┆ Estado    ┆ Tipo de Ticket │\n",
       "│ ---             ┆ ---            ┆ ---       ┆ ---            │\n",
       "│ str             ┆ date           ┆ str       ┆ str            │\n",
       "╞═════════════════╪════════════════╪═══════════╪════════════════╡\n",
       "│ WO0000005584689 ┆ 2023-09-08     ┆ Cerrado   ┆ Variable       │\n",
       "│ WO0000004544943 ┆ 2022-10-18     ┆ Rechazado ┆ Rechazado      │\n",
       "│ WO0000004545246 ┆ 2022-10-18     ┆ Rechazado ┆ Rechazado      │\n",
       "│ WO0000004559125 ┆ 2022-10-24     ┆ Rechazado ┆ Rechazado      │\n",
       "│ WO0000004707477 ┆ 2022-11-08     ┆ Rechazado ┆ Rechazado      │\n",
       "│ WO0000004759976 ┆ 2022-11-26     ┆ Rechazado ┆ Rechazado      │\n",
       "│ WO0000004795876 ┆ 2022-12-09     ┆ Rechazado ┆ Rechazado      │\n",
       "│ WO0000004825300 ┆ 2022-12-19     ┆ Rechazado ┆ Rechazado      │\n",
       "│ WO0000004853680 ┆ 2023-01-02     ┆ Cerrado   ┆ Flat           │\n",
       "│ WO0000004925389 ┆ 2023-01-24     ┆ Cerrado   ┆ Flat           │\n",
       "└─────────────────┴────────────────┴───────────┴────────────────┘"
      ]
     },
     "execution_count": 8,
     "metadata": {},
     "output_type": "execute_result"
    }
   ],
   "source": [
    "pl.read_excel(\n",
    "    source=\"Atenciones Centro.xlsx\",\n",
    "    sheet_name=\"Hoja1\",\n",
    "    engine=\"xlsx2csv\",\n",
    "    read_csv_options={\n",
    "        \"columns\":[\"Numero Ticket\",\"Fecha Creacion\",\"Estado\",\"Tipo de Ticket\"],\n",
    "        \"dtypes\":{\"Fecha Creacion\": pl.Date }\n",
    "    }\n",
    ").head(10)"
   ]
  }
 ],
 "metadata": {
  "kernelspec": {
   "display_name": "vTarea1",
   "language": "python",
   "name": "python3"
  },
  "language_info": {
   "codemirror_mode": {
    "name": "ipython",
    "version": 3
   },
   "file_extension": ".py",
   "mimetype": "text/x-python",
   "name": "python",
   "nbconvert_exporter": "python",
   "pygments_lexer": "ipython3",
   "version": "3.11.7"
  }
 },
 "nbformat": 4,
 "nbformat_minor": 2
}
